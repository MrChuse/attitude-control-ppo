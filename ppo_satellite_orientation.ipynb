{
 "cells": [
  {
   "cell_type": "markdown",
   "metadata": {
    "id": "l9g-wDw7HqPa"
   },
   "source": [
    "# Proximal Policy Optimization\n"
   ]
  },
  {
   "cell_type": "markdown",
   "metadata": {
    "id": "ZxEogGtvHqPf"
   },
   "source": [
    "## Introduction\n",
    "\n",
    "This code example solves the CartPole-v0 environment using a Proximal Policy Optimization (PPO) agent.\n",
    "\n",
    "\n",
    "### Proximal Policy Optimization\n",
    "\n",
    "PPO is a policy gradient method and can be used for environments with either discrete or continuous action spaces.\n",
    "It trains a stochastic policy in an on-policy way. Also, it utilizes the actor critic method. The actor maps the\n",
    "observation to an action and the critic gives an expectation of the rewards of the agent for the observation given.\n",
    "Firstly, it collects a set of trajectories for each epoch by sampling from the latest version of the stochastic policy.\n",
    "Then, the rewards-to-go and the advantage estimates are computed in order to update the policy and fit the value function.\n",
    "The policy is updated via a stochastic gradient ascent optimizer, while the value function is fitted via some gradient descent algorithm.\n",
    "This procedure is applied for many epochs until the environment is solved.\n",
    "\n",
    "![Algorithm](https://i.imgur.com/rd5tda1.png)\n",
    "\n",
    "- [PPO Original Paper](https://arxiv.org/pdf/1707.06347.pdf)\n",
    "- [OpenAI Spinning Up docs - PPO](https://spinningup.openai.com/en/latest/algorithms/ppo.html)\n",
    "\n",
    "### Note\n",
    "\n",
    "This code example uses Keras and Tensorflow v2. It is based on the PPO Original Paper,\n",
    "the OpenAI's Spinning Up docs for PPO, and the OpenAI's Spinning Up implementation of PPO using Tensorflow v1.\n",
    "\n",
    "[OpenAI Spinning Up Github - PPO](https://github.com/openai/spinningup/blob/master/spinup/algos/tf1/ppo/ppo.py)"
   ]
  },
  {
   "cell_type": "markdown",
   "metadata": {
    "id": "RHRt4sMVHqPg"
   },
   "source": [
    "## Libraries\n",
    "\n",
    "For this example the following libraries are used:\n",
    "\n",
    "1. `numpy` for n-dimensional arrays\n",
    "2. `tensorflow` and `keras` for building the deep RL PPO agent\n",
    "3. `gym` for getting everything we need about the environment\n",
    "4. `scipy.signal` for calculating the discounted cumulative sums of vectors"
   ]
  },
  {
   "cell_type": "code",
   "execution_count": 3,
   "metadata": {
    "id": "y78rKHSSHqPh"
   },
   "outputs": [
    {
     "data": {
      "application/javascript": [
       "if (!(\"Notification\" in window)) {\n",
       "    alert(\"This browser does not support desktop notifications, so the %%notify magic will not work.\");\n",
       "} else if (Notification.permission !== 'granted' && Notification.permission !== 'denied') {\n",
       "    Notification.requestPermission(function (permission) {\n",
       "        if(!('permission' in Notification)) {\n",
       "            Notification.permission = permission;\n",
       "        }\n",
       "    })\n",
       "}\n"
      ],
      "text/plain": [
       "<IPython.core.display.Javascript object>"
      ]
     },
     "metadata": {},
     "output_type": "display_data"
    }
   ],
   "source": [
    "import numpy as np\n",
    "import tensorflow as tf\n",
    "from tensorflow import keras\n",
    "from tensorflow.keras import layers\n",
    "import gym\n",
    "import scipy.signal\n",
    "import time\n",
    "from scipy.integrate import solve_ivp\n",
    "import matplotlib.pyplot as plt\n",
    "import tqdm\n",
    "%matplotlib inline\n",
    "%load_ext jupyternotify"
   ]
  },
  {
   "cell_type": "code",
   "execution_count": 45,
   "metadata": {
    "id": "xyKokzpKHqPj"
   },
   "outputs": [
    {
     "data": {
      "text/plain": [
       "array([[ 0.   ,  0.251,  0.   ],\n",
       "       [-0.384,  0.   ,  0.   ],\n",
       "       [ 0.   ,  1.25 ,  0.   ]])"
      ]
     },
     "execution_count": 45,
     "metadata": {},
     "output_type": "execute_result"
    }
   ],
   "source": [
    "%run utils.ipynb\n",
    "%run torque_dynamics.ipynb\n",
    "sat.L_p"
   ]
  },
  {
   "cell_type": "markdown",
   "metadata": {
    "id": "eclr-wmlHqPk"
   },
   "source": [
    "## Hyperparameters"
   ]
  },
  {
   "cell_type": "code",
   "execution_count": 4,
   "metadata": {
    "id": "4L9RbWNAHqPl"
   },
   "outputs": [],
   "source": [
    "# Hyperparameters of the PPO algorithm\n",
    "steps_per_epoch = 500\n",
    "epochs = 1000\n",
    "gamma = 0.99\n",
    "clip_ratio = 0.2\n",
    "policy_learning_rate = 3e-4\n",
    "value_function_learning_rate = 1e-3\n",
    "train_policy_iterations = 80\n",
    "train_value_iterations = 80\n",
    "lam = 0.95\n",
    "target_kl = 0.01\n",
    "hidden_sizes = (400, 300)\n",
    "\n",
    "# True if you want to render the environment\n",
    "render = False"
   ]
  },
  {
   "cell_type": "markdown",
   "metadata": {
    "id": "HyghzEOgQJ3w"
   },
   "source": [
    "## Physics"
   ]
  },
  {
   "cell_type": "code",
   "execution_count": 5,
   "metadata": {
    "id": "grBwDNIHKmkA"
   },
   "outputs": [],
   "source": [
    "def gravity_gradient_torque(quat, inertia_tensor, mean_motion):\n",
    "    Ae3 = rotate_vec_with_quat(quat, np.array([0., 0., 1.]))\n",
    "\n",
    "    return 3. * mean_motion ** 2. * cross_product(Ae3, inertia_tensor.dot(Ae3))    \n",
    "\n",
    "\n",
    "def rhs(t, x, sat, action):\n",
    "\n",
    "    quat = x[:4] / np.linalg.norm(x[:4])\n",
    "    omega = x[4:7]\n",
    "    h = x[7:10]\n",
    "     \n",
    "    omega_rel = omega - rotate_vec_with_quat(quat, np.array([0., sat.mean_motion, 0.]))    \n",
    "        \n",
    "    trq_gg = gravity_gradient_torque(quat, sat.J, sat.mean_motion)\n",
    "\n",
    "    x_dot = np.zeros(16)\n",
    "    omega_dot_rigid = trq_gg + action - cross_product(omega, sat.J.dot(omega) + h)\n",
    "    eta_dot_flex = sat.D.dot(x[13:]) + sat.K.dot(x[10:13])\n",
    "\n",
    "    x_dot[0] = -0.5 * quat[1:].dot(omega_rel)\n",
    "    x_dot[1:4] = 0.5 * (quat[0] * omega_rel + cross_product(quat[1:], omega_rel))\n",
    "    tmp = omega_dot_rigid + (sat.L_p.T).dot(eta_dot_flex)\n",
    "    x_dot[4:7] = sat.Aom.dot(sat.J_inv).dot(tmp)\n",
    "    x_dot[7:10] = - action\n",
    "    x_dot[10:13] = x[13:]\n",
    "    x_dot[13:] = - sat.Aeta.dot(eta_dot_flex + sat.L_p.dot(sat.J_inv).dot(omega_dot_rigid))\n",
    "        \n",
    "    return x_dot"
   ]
  },
  {
   "cell_type": "markdown",
   "metadata": {
    "id": "g4k0dL4KHqPm"
   },
   "source": [
    "## Initializations"
   ]
  },
  {
   "cell_type": "code",
   "execution_count": 6,
   "metadata": {
    "id": "K1iWcjWEHqPm"
   },
   "outputs": [],
   "source": [
    "# Initialize the environment and get the dimensionality of the\n",
    "# observation space and the number of possible actions\n",
    "env = TorqueDynamics(0.1, np.array([1, 0, 0, 0]), 16)\n",
    "observation_dimensions = env.observation_space.shape[0]\n",
    "num_actions = env.action_space.shape[0]\n",
    "\n",
    "# Initialize the buffer\n",
    "buffer = Buffer(observation_dimensions, steps_per_epoch)\n",
    "\n",
    "# Initialize the actor and the critic as keras models\n",
    "observation_input = keras.Input(shape=(observation_dimensions,), dtype=tf.float32)\n",
    "logits = mlp(observation_input, list(hidden_sizes) + [num_actions], tf.nn.relu, None)\n",
    "actor = keras.Model(inputs=observation_input, outputs=logits)\n",
    "value = tf.squeeze(\n",
    "    mlp(observation_input, list(hidden_sizes) + [1], tf.nn.relu, None), axis=1\n",
    ")\n",
    "critic = keras.Model(inputs=observation_input, outputs=value)\n",
    "\n",
    "# Initialize the policy and the value function optimizers\n",
    "policy_optimizer = keras.optimizers.Adam(learning_rate=policy_learning_rate)\n",
    "value_optimizer = keras.optimizers.Adam(learning_rate=value_function_learning_rate)\n",
    "\n"
   ]
  },
  {
   "cell_type": "markdown",
   "metadata": {
    "id": "TdMXapmNHqPn"
   },
   "source": [
    "## Train"
   ]
  },
  {
   "cell_type": "code",
   "execution_count": 46,
   "metadata": {
    "id": "-E1Q3xHBamXF"
   },
   "outputs": [
    {
     "name": "stdout",
     "output_type": "stream",
     "text": [
      "Accounting for the gravity\n"
     ]
    },
    {
     "name": "stderr",
     "output_type": "stream",
     "text": [
      "\r",
      "  0%|          | 0/10 [00:00<?, ?it/s]"
     ]
    },
    {
     "name": "stdout",
     "output_type": "stream",
     "text": [
      "Run #0.\n",
      "starting training with 20 epochs\n",
      " Epoch: 1. Mean Return: 2180.561180999854. Mean Length: 500.0\n",
      " Epoch: 2. Mean Return: 1947.0759431688346. Mean Length: 500.0\n",
      " Epoch: 3. Mean Return: 1190.8140279030613. Mean Length: 500.0\n",
      " Epoch: 4. Mean Return: 904.046165519125. Mean Length: 500.0\n",
      " Epoch: 5. Mean Return: 3377.6329721411944. Mean Length: 500.0\n",
      " Epoch: 6. Mean Return: 688.2450384292969. Mean Length: 500.0\n",
      " Epoch: 7. Mean Return: 1147.9381949270155. Mean Length: 500.0\n",
      " Epoch: 8. Mean Return: 870.3738209930178. Mean Length: 500.0\n",
      " Epoch: 9. Mean Return: 1120.6571068094377. Mean Length: 500.0\n",
      " Epoch: 10. Mean Return: 1092.8530237950877. Mean Length: 500.0\n",
      " Epoch: 11. Mean Return: 813.9230719625187. Mean Length: 500.0\n",
      " Epoch: 12. Mean Return: 989.3583147593222. Mean Length: 500.0\n",
      " Epoch: 13. Mean Return: 892.2426482727966. Mean Length: 500.0\n",
      " Epoch: 14. Mean Return: 713.9436453198273. Mean Length: 500.0\n",
      " Epoch: 15. Mean Return: 1478.4560442644506. Mean Length: 500.0\n",
      " Epoch: 16. Mean Return: 1466.607838898896. Mean Length: 500.0\n",
      " Epoch: 17. Mean Return: 1879.7157796926454. Mean Length: 500.0\n",
      " Epoch: 18. Mean Return: 3352.402921401158. Mean Length: 500.0\n",
      " Epoch: 19. Mean Return: 1745.9961377735126. Mean Length: 500.0\n"
     ]
    },
    {
     "name": "stderr",
     "output_type": "stream",
     "text": [
      "\r",
      " 10%|█         | 1/10 [01:30<13:35, 90.57s/it]"
     ]
    },
    {
     "name": "stdout",
     "output_type": "stream",
     "text": [
      " Epoch: 20. Mean Return: 2279.1496762397624. Mean Length: 500.0\n",
      "Current batch mean is 688.2450384292969\n",
      "----------\n",
      "Run #1.\n",
      "starting training with 20 epochs\n",
      " Epoch: 1. Mean Return: 2164.088976007844. Mean Length: 500.0\n",
      " Epoch: 2. Mean Return: 814.0703873411271. Mean Length: 500.0\n",
      " Epoch: 3. Mean Return: 1772.3535408939833. Mean Length: 500.0\n",
      " Epoch: 4. Mean Return: 2410.428441654435. Mean Length: 500.0\n",
      " Epoch: 5. Mean Return: 1537.7338331937715. Mean Length: 500.0\n",
      " Epoch: 6. Mean Return: 2732.1368467285824. Mean Length: 500.0\n",
      " Epoch: 7. Mean Return: 2865.397849566833. Mean Length: 500.0\n",
      " Epoch: 8. Mean Return: 2023.334164160105. Mean Length: 500.0\n",
      " Epoch: 9. Mean Return: 2667.6273094759913. Mean Length: 500.0\n",
      " Epoch: 10. Mean Return: 3392.5538590389906. Mean Length: 500.0\n",
      " Epoch: 11. Mean Return: 1061.7307455361306. Mean Length: 500.0\n",
      " Epoch: 12. Mean Return: 2644.37388154946. Mean Length: 500.0\n",
      " Epoch: 13. Mean Return: 1890.629015010792. Mean Length: 500.0\n",
      " Epoch: 14. Mean Return: 3033.8900831768437. Mean Length: 500.0\n",
      " Epoch: 15. Mean Return: 2337.059046941297. Mean Length: 500.0\n",
      " Epoch: 16. Mean Return: 1602.5380234954794. Mean Length: 500.0\n",
      " Epoch: 17. Mean Return: 1969.832501977059. Mean Length: 500.0\n",
      " Epoch: 18. Mean Return: 1293.4579239164746. Mean Length: 500.0\n",
      " Epoch: 19. Mean Return: 1367.5352318127123. Mean Length: 500.0\n"
     ]
    },
    {
     "name": "stderr",
     "output_type": "stream",
     "text": [
      "\r",
      " 20%|██        | 2/10 [03:08<12:40, 95.08s/it]"
     ]
    },
    {
     "name": "stdout",
     "output_type": "stream",
     "text": [
      " Epoch: 20. Mean Return: 2247.1131342746767. Mean Length: 500.0\n",
      "Current batch mean is 814.0703873411271\n",
      "----------\n",
      "Run #2.\n",
      "starting training with 20 epochs\n",
      " Epoch: 1. Mean Return: 2018.5765788167457. Mean Length: 500.0\n",
      " Epoch: 2. Mean Return: 1261.5567254490443. Mean Length: 500.0\n",
      " Epoch: 3. Mean Return: 1731.3840630918278. Mean Length: 500.0\n",
      " Epoch: 4. Mean Return: 1910.3432130474457. Mean Length: 500.0\n",
      " Epoch: 5. Mean Return: 3033.4270402415036. Mean Length: 500.0\n",
      " Epoch: 6. Mean Return: 2033.4084044015708. Mean Length: 500.0\n",
      " Epoch: 7. Mean Return: 3244.9802412286112. Mean Length: 500.0\n",
      " Epoch: 8. Mean Return: 2288.7420508488053. Mean Length: 500.0\n",
      " Epoch: 9. Mean Return: 1750.7527050704757. Mean Length: 500.0\n",
      " Epoch: 10. Mean Return: 908.6025433499648. Mean Length: 500.0\n",
      " Epoch: 11. Mean Return: 2660.62795196973. Mean Length: 500.0\n",
      " Epoch: 12. Mean Return: 2253.4665375097993. Mean Length: 500.0\n",
      " Epoch: 13. Mean Return: 3100.7118528315827. Mean Length: 500.0\n",
      " Epoch: 14. Mean Return: 2508.9195005580523. Mean Length: 500.0\n",
      " Epoch: 15. Mean Return: 2809.154118300223. Mean Length: 500.0\n",
      " Epoch: 16. Mean Return: 2389.868598405946. Mean Length: 500.0\n",
      " Epoch: 17. Mean Return: 2195.424555152735. Mean Length: 500.0\n",
      " Epoch: 18. Mean Return: 915.3430241212425. Mean Length: 500.0\n",
      " Epoch: 19. Mean Return: 2097.467193331564. Mean Length: 500.0\n"
     ]
    },
    {
     "name": "stderr",
     "output_type": "stream",
     "text": [
      "\r",
      " 30%|███       | 3/10 [04:47<11:15, 96.56s/it]"
     ]
    },
    {
     "name": "stdout",
     "output_type": "stream",
     "text": [
      " Epoch: 20. Mean Return: 779.2597362049678. Mean Length: 500.0\n",
      "Current batch mean is 779.2597362049678\n",
      "----------\n",
      "Run #3.\n",
      "starting training with 20 epochs\n",
      " Epoch: 1. Mean Return: 2726.222656614631. Mean Length: 500.0\n",
      " Epoch: 2. Mean Return: 3480.739247007913. Mean Length: 500.0\n",
      " Epoch: 3. Mean Return: 1102.951771066528. Mean Length: 500.0\n",
      " Epoch: 4. Mean Return: 2217.3268760514707. Mean Length: 500.0\n",
      " Epoch: 5. Mean Return: 871.2616737072462. Mean Length: 500.0\n",
      " Epoch: 6. Mean Return: 1730.6111906527553. Mean Length: 500.0\n",
      " Epoch: 7. Mean Return: 2715.3968542873263. Mean Length: 500.0\n",
      " Epoch: 8. Mean Return: 2317.0021531548787. Mean Length: 500.0\n",
      " Epoch: 9. Mean Return: 772.2959305369617. Mean Length: 500.0\n",
      " Epoch: 10. Mean Return: 1020.401127480738. Mean Length: 500.0\n",
      " Epoch: 11. Mean Return: 2417.7428342523854. Mean Length: 500.0\n",
      " Epoch: 12. Mean Return: 1697.7932865322234. Mean Length: 500.0\n",
      " Epoch: 13. Mean Return: 2031.8984425768137. Mean Length: 500.0\n",
      " Epoch: 14. Mean Return: 1782.0615696974. Mean Length: 500.0\n",
      " Epoch: 15. Mean Return: 2750.0917248813284. Mean Length: 500.0\n",
      " Epoch: 16. Mean Return: 1048.7893558130088. Mean Length: 500.0\n",
      " Epoch: 17. Mean Return: 2699.338251707772. Mean Length: 500.0\n",
      " Epoch: 18. Mean Return: 2187.828700108552. Mean Length: 500.0\n",
      " Epoch: 19. Mean Return: 940.4730818114784. Mean Length: 500.0\n"
     ]
    },
    {
     "name": "stderr",
     "output_type": "stream",
     "text": [
      "\r",
      " 40%|████      | 4/10 [06:25<09:44, 97.42s/it]"
     ]
    },
    {
     "name": "stdout",
     "output_type": "stream",
     "text": [
      " Epoch: 20. Mean Return: 2331.781059281292. Mean Length: 500.0\n",
      "Current batch mean is 772.2959305369617\n",
      "----------\n",
      "Run #4.\n",
      "starting training with 20 epochs\n",
      " Epoch: 1. Mean Return: 3101.6718602619044. Mean Length: 500.0\n",
      " Epoch: 2. Mean Return: 1410.5240881914224. Mean Length: 500.0\n",
      " Epoch: 3. Mean Return: 2596.1026574080047. Mean Length: 500.0\n",
      " Epoch: 4. Mean Return: 919.391034287223. Mean Length: 500.0\n",
      " Epoch: 5. Mean Return: 1603.1338839325954. Mean Length: 500.0\n",
      " Epoch: 6. Mean Return: 2283.358480947302. Mean Length: 500.0\n",
      " Epoch: 7. Mean Return: 2006.0838383491841. Mean Length: 500.0\n",
      " Epoch: 8. Mean Return: 2068.928207426947. Mean Length: 500.0\n",
      " Epoch: 9. Mean Return: 2559.3914629417277. Mean Length: 500.0\n",
      " Epoch: 10. Mean Return: 1880.195362587171. Mean Length: 500.0\n",
      " Epoch: 11. Mean Return: 2773.865855171018. Mean Length: 500.0\n",
      " Epoch: 12. Mean Return: 2018.737832813228. Mean Length: 500.0\n",
      " Epoch: 13. Mean Return: 2728.9530617167134. Mean Length: 500.0\n",
      " Epoch: 14. Mean Return: 2141.92162929942. Mean Length: 500.0\n",
      " Epoch: 15. Mean Return: 2170.832058258157. Mean Length: 500.0\n",
      " Epoch: 16. Mean Return: 1668.664629591966. Mean Length: 500.0\n",
      " Epoch: 17. Mean Return: 2097.616663101891. Mean Length: 500.0\n",
      " Epoch: 18. Mean Return: 895.130303794576. Mean Length: 500.0\n",
      " Epoch: 19. Mean Return: 2565.4758007453943. Mean Length: 500.0\n"
     ]
    },
    {
     "name": "stderr",
     "output_type": "stream",
     "text": [
      "\r",
      " 50%|█████     | 5/10 [08:04<08:08, 97.73s/it]"
     ]
    },
    {
     "name": "stdout",
     "output_type": "stream",
     "text": [
      " Epoch: 20. Mean Return: 853.7644347516732. Mean Length: 500.0\n",
      "Current batch mean is 853.7644347516732\n",
      "----------\n",
      "Run #5.\n",
      "starting training with 20 epochs\n",
      " Epoch: 1. Mean Return: 718.2989365247349. Mean Length: 500.0\n",
      " Epoch: 2. Mean Return: 1719.4248736466377. Mean Length: 500.0\n",
      " Epoch: 3. Mean Return: 2376.0836622263078. Mean Length: 500.0\n",
      " Epoch: 4. Mean Return: 2243.6575371993913. Mean Length: 500.0\n",
      " Epoch: 5. Mean Return: 2099.122803225809. Mean Length: 500.0\n",
      " Epoch: 6. Mean Return: 2267.095900308419. Mean Length: 500.0\n",
      " Epoch: 7. Mean Return: 716.7124595645017. Mean Length: 500.0\n",
      " Epoch: 8. Mean Return: 1676.9905609192997. Mean Length: 500.0\n",
      " Epoch: 9. Mean Return: 2404.3128787324486. Mean Length: 500.0\n",
      " Epoch: 10. Mean Return: 1514.1435790917442. Mean Length: 500.0\n",
      " Epoch: 11. Mean Return: 2067.6053598080425. Mean Length: 500.0\n",
      " Epoch: 12. Mean Return: 938.1859095131523. Mean Length: 500.0\n",
      " Epoch: 13. Mean Return: 2512.040590602983. Mean Length: 500.0\n",
      " Epoch: 14. Mean Return: 2014.287093053174. Mean Length: 500.0\n",
      " Epoch: 15. Mean Return: 1808.5440576962317. Mean Length: 500.0\n",
      " Epoch: 16. Mean Return: 559.6958402111619. Mean Length: 500.0\n",
      " Epoch: 17. Mean Return: 2522.2971302792685. Mean Length: 500.0\n",
      " Epoch: 18. Mean Return: 746.9394704045668. Mean Length: 500.0\n",
      " Epoch: 19. Mean Return: 2506.6482613417065. Mean Length: 500.0\n"
     ]
    },
    {
     "name": "stderr",
     "output_type": "stream",
     "text": [
      "\r",
      " 60%|██████    | 6/10 [09:43<06:32, 98.20s/it]"
     ]
    },
    {
     "name": "stdout",
     "output_type": "stream",
     "text": [
      " Epoch: 20. Mean Return: 566.3367607221464. Mean Length: 500.0\n",
      "Current batch mean is 559.6958402111619\n",
      "----------\n",
      "Run #6.\n",
      "starting training with 20 epochs\n",
      " Epoch: 1. Mean Return: 2940.7600719851066. Mean Length: 500.0\n",
      " Epoch: 2. Mean Return: 2715.7002773564427. Mean Length: 500.0\n",
      " Epoch: 3. Mean Return: 1620.2100789751175. Mean Length: 500.0\n",
      " Epoch: 4. Mean Return: 1289.454223521816. Mean Length: 500.0\n",
      " Epoch: 5. Mean Return: 2453.4182810450197. Mean Length: 500.0\n",
      " Epoch: 6. Mean Return: 2197.7731582557. Mean Length: 500.0\n",
      " Epoch: 7. Mean Return: 920.9693148936395. Mean Length: 500.0\n",
      " Epoch: 8. Mean Return: 3052.8015441985312. Mean Length: 500.0\n",
      " Epoch: 9. Mean Return: 2181.4498798372642. Mean Length: 500.0\n",
      " Epoch: 10. Mean Return: 885.6092157957595. Mean Length: 500.0\n",
      " Epoch: 11. Mean Return: 2123.115486000655. Mean Length: 500.0\n",
      " Epoch: 12. Mean Return: 667.95571598846. Mean Length: 500.0\n",
      " Epoch: 13. Mean Return: 1378.1811719732. Mean Length: 500.0\n",
      " Epoch: 14. Mean Return: 2637.17160493437. Mean Length: 500.0\n",
      " Epoch: 15. Mean Return: 2689.279885592877. Mean Length: 500.0\n",
      " Epoch: 16. Mean Return: 3327.9044032110373. Mean Length: 500.0\n",
      " Epoch: 17. Mean Return: 791.0524475285333. Mean Length: 500.0\n",
      " Epoch: 18. Mean Return: 761.6313568690375. Mean Length: 500.0\n",
      " Epoch: 19. Mean Return: 2910.796752935637. Mean Length: 500.0\n"
     ]
    },
    {
     "name": "stderr",
     "output_type": "stream",
     "text": [
      "\r",
      " 70%|███████   | 7/10 [11:24<04:57, 99.24s/it]"
     ]
    },
    {
     "name": "stdout",
     "output_type": "stream",
     "text": [
      " Epoch: 20. Mean Return: 1505.5354650884335. Mean Length: 500.0\n",
      "Current batch mean is 667.95571598846\n",
      "----------\n",
      "Run #7.\n",
      "starting training with 20 epochs\n",
      " Epoch: 1. Mean Return: 2159.5436194487816. Mean Length: 500.0\n",
      " Epoch: 2. Mean Return: 2568.4643996780533. Mean Length: 500.0\n",
      " Epoch: 3. Mean Return: 811.085865739933. Mean Length: 500.0\n",
      " Epoch: 4. Mean Return: 2830.7309540850447. Mean Length: 500.0\n",
      " Epoch: 5. Mean Return: 700.8519138926952. Mean Length: 500.0\n",
      " Epoch: 6. Mean Return: 1376.530731992821. Mean Length: 500.0\n",
      " Epoch: 7. Mean Return: 2267.1835971461683. Mean Length: 500.0\n",
      " Epoch: 8. Mean Return: 2214.4983782246786. Mean Length: 500.0\n",
      " Epoch: 9. Mean Return: 2592.8071364646494. Mean Length: 500.0\n",
      " Epoch: 10. Mean Return: 2060.0403543934653. Mean Length: 500.0\n",
      " Epoch: 11. Mean Return: 2136.6035200301476. Mean Length: 500.0\n",
      " Epoch: 12. Mean Return: 2271.087371423634. Mean Length: 500.0\n",
      " Epoch: 13. Mean Return: 2913.2396120600793. Mean Length: 500.0\n",
      " Epoch: 14. Mean Return: 1689.9799100018893. Mean Length: 500.0\n",
      " Epoch: 15. Mean Return: 2516.864596556868. Mean Length: 500.0\n",
      " Epoch: 16. Mean Return: 2227.5572037595484. Mean Length: 500.0\n",
      " Epoch: 17. Mean Return: 2078.900771796891. Mean Length: 500.0\n",
      " Epoch: 18. Mean Return: 1019.2728125623835. Mean Length: 500.0\n",
      " Epoch: 19. Mean Return: 1700.2345802444556. Mean Length: 500.0\n"
     ]
    },
    {
     "name": "stderr",
     "output_type": "stream",
     "text": [
      "\r",
      " 80%|████████  | 8/10 [13:19<03:28, 104.33s/it]"
     ]
    },
    {
     "name": "stdout",
     "output_type": "stream",
     "text": [
      " Epoch: 20. Mean Return: 887.3046827557909. Mean Length: 500.0\n",
      "Current batch mean is 700.8519138926952\n",
      "----------\n",
      "Run #8.\n",
      "starting training with 20 epochs\n",
      " Epoch: 1. Mean Return: 2777.825362901594. Mean Length: 500.0\n",
      " Epoch: 2. Mean Return: 2821.5242958968893. Mean Length: 500.0\n",
      " Epoch: 3. Mean Return: 1804.2266294416754. Mean Length: 500.0\n",
      " Epoch: 4. Mean Return: 3263.6790630176097. Mean Length: 500.0\n",
      " Epoch: 5. Mean Return: 2588.6718628138083. Mean Length: 500.0\n",
      " Epoch: 6. Mean Return: 1937.817903789368. Mean Length: 500.0\n",
      " Epoch: 7. Mean Return: 958.5086580138948. Mean Length: 500.0\n",
      " Epoch: 8. Mean Return: 691.7266651186841. Mean Length: 500.0\n",
      " Epoch: 9. Mean Return: 2999.0789722708046. Mean Length: 500.0\n",
      " Epoch: 10. Mean Return: 1870.1110813760704. Mean Length: 500.0\n",
      " Epoch: 11. Mean Return: 969.6067362707536. Mean Length: 500.0\n",
      " Epoch: 12. Mean Return: 830.4959496410634. Mean Length: 500.0\n",
      " Epoch: 13. Mean Return: 895.9074363709742. Mean Length: 500.0\n",
      " Epoch: 14. Mean Return: 2371.9646520511274. Mean Length: 500.0\n",
      " Epoch: 15. Mean Return: 2375.88941162079. Mean Length: 500.0\n",
      " Epoch: 16. Mean Return: 988.5670609738925. Mean Length: 500.0\n",
      " Epoch: 17. Mean Return: 554.214958435517. Mean Length: 500.0\n",
      " Epoch: 18. Mean Return: 784.5636834703067. Mean Length: 500.0\n",
      " Epoch: 19. Mean Return: 855.8459162351517. Mean Length: 500.0\n"
     ]
    },
    {
     "name": "stderr",
     "output_type": "stream",
     "text": [
      "\r",
      " 90%|█████████ | 9/10 [14:59<01:42, 102.82s/it]"
     ]
    },
    {
     "name": "stdout",
     "output_type": "stream",
     "text": [
      " Epoch: 20. Mean Return: 857.8789446111122. Mean Length: 500.0\n",
      "Current batch mean is 554.214958435517\n",
      "----------\n",
      "Run #9.\n",
      "starting training with 20 epochs\n",
      " Epoch: 1. Mean Return: 842.1672811850648. Mean Length: 500.0\n",
      " Epoch: 2. Mean Return: 681.1685905189166. Mean Length: 500.0\n",
      " Epoch: 3. Mean Return: 815.0683874940779. Mean Length: 500.0\n",
      " Epoch: 4. Mean Return: 1143.9538946592843. Mean Length: 500.0\n",
      " Epoch: 5. Mean Return: 1584.1017512244246. Mean Length: 500.0\n",
      " Epoch: 6. Mean Return: 1115.1044245144155. Mean Length: 500.0\n",
      " Epoch: 7. Mean Return: 1365.5472569570593. Mean Length: 500.0\n",
      " Epoch: 8. Mean Return: 1018.2446881322052. Mean Length: 500.0\n",
      " Epoch: 9. Mean Return: 985.510915923838. Mean Length: 500.0\n",
      " Epoch: 10. Mean Return: 1225.896209197363. Mean Length: 500.0\n",
      " Epoch: 11. Mean Return: 1181.3050143809644. Mean Length: 500.0\n",
      " Epoch: 12. Mean Return: 1905.858624091165. Mean Length: 500.0\n",
      " Epoch: 13. Mean Return: 725.05310157008. Mean Length: 500.0\n",
      " Epoch: 14. Mean Return: 983.9773506026883. Mean Length: 500.0\n",
      " Epoch: 15. Mean Return: 1009.3961481805153. Mean Length: 500.0\n",
      " Epoch: 16. Mean Return: 1966.9019091927614. Mean Length: 500.0\n",
      " Epoch: 17. Mean Return: 2240.2375914610907. Mean Length: 500.0\n",
      " Epoch: 18. Mean Return: 2618.764348381258. Mean Length: 500.0\n",
      " Epoch: 19. Mean Return: 2884.9680236830604. Mean Length: 500.0\n"
     ]
    },
    {
     "name": "stderr",
     "output_type": "stream",
     "text": [
      "100%|██████████| 10/10 [16:40<00:00, 100.04s/it]"
     ]
    },
    {
     "name": "stdout",
     "output_type": "stream",
     "text": [
      " Epoch: 20. Mean Return: 3053.619400590737. Mean Length: 500.0\n",
      "Current batch mean is 681.1685905189166\n",
      "----------\n"
     ]
    },
    {
     "name": "stderr",
     "output_type": "stream",
     "text": [
      "\n"
     ]
    },
    {
     "data": {
      "application/javascript": [
       "$(document).ready(\n",
       "    function() {\n",
       "        function appendUniqueDiv(){\n",
       "            // append a div with our uuid so we can check that it's already\n",
       "            // been sent and avoid duplicates on page reload\n",
       "            var notifiedDiv = document.createElement(\"div\")\n",
       "            notifiedDiv.id = \"76626bcc-50c5-4404-bbe3-fe3f67ef1490\"\n",
       "            element.append(notifiedDiv)\n",
       "        }\n",
       "\n",
       "        // only send notifications if the pageload is complete; this will\n",
       "        // help stop extra notifications when a saved notebook is loaded,\n",
       "        // which during testing gives us state \"interactive\", not \"complete\"\n",
       "        if (document.readyState === 'complete') {\n",
       "            // check for the div that signifies that the notification\n",
       "            // was already sent\n",
       "            if (document.getElementById(\"76626bcc-50c5-4404-bbe3-fe3f67ef1490\") === null) {\n",
       "                var notificationPayload = {\"requireInteraction\": false, \"icon\": \"/static/base/images/favicon.ico\", \"body\": \"Cell execution has finished!\"};\n",
       "                if (Notification.permission !== 'denied') {\n",
       "                    if (Notification.permission !== 'granted') { \n",
       "                        Notification.requestPermission(function (permission) {\n",
       "                            if(!('permission' in Notification)) {\n",
       "                                Notification.permission = permission\n",
       "                            }\n",
       "                        })\n",
       "                    }\n",
       "                    if (Notification.permission === 'granted') {\n",
       "                    var notification = new Notification(\"Jupyter Notebook\", notificationPayload)\n",
       "                    appendUniqueDiv()\n",
       "                    notification.onclick = function () {\n",
       "                        window.focus();\n",
       "                        this.close();\n",
       "                        };\n",
       "                    } \n",
       "                }     \n",
       "            }\n",
       "        }\n",
       "    }\n",
       ")\n"
      ],
      "text/plain": [
       "<IPython.core.display.Javascript object>"
      ]
     },
     "metadata": {},
     "output_type": "display_data"
    }
   ],
   "source": [
    "%%notify\n",
    "print('Accounting for the gravity')\n",
    "iterations = 20\n",
    "obs_shape = 16\n",
    "tries = 10\n",
    "\n",
    "for i in tqdm.tqdm(range(tries)):\n",
    "  print(f'Run #{i}.')\n",
    "  mean_ret = train(iterations, obs_shape)\n",
    "  mean_ret = np.min(mean_ret)\n",
    "  print(f'Current batch mean is {mean_ret}')\n",
    "  print('-'*10)\n",
    "  if mean_ret > 5000 and reward_thresh > 0.004:\n",
    "    reward_thresh *= 0.5# - 3*(mean_ret - 1000)/40000 # linear from (1000, 0.8) to (5000, 0.5)\n",
    "  "
   ]
  },
  {
   "cell_type": "markdown",
   "metadata": {},
   "source": [
    "## Display results"
   ]
  },
  {
   "cell_type": "code",
   "execution_count": 47,
   "metadata": {
    "colab": {
     "base_uri": "https://localhost:8080/"
    },
    "id": "JjmClmacRP9V",
    "outputId": "f55fb214-6d9c-4c1c-b194-309699ff4a00"
   },
   "outputs": [
    {
     "name": "stdout",
     "output_type": "stream",
     "text": [
      "3029.589752288632\n"
     ]
    }
   ],
   "source": [
    "# %%notify\n",
    "env = TorqueDynamics(0.1, np.array([1, 0, 0, 0]), 16)\n",
    "observation = env.reset()\n",
    "episode_return = 0\n",
    "# Iterate over the steps of each epoch\n",
    "for t in range(steps_per_epoch*2):\n",
    "    if render:\n",
    "        env.render()\n",
    "\n",
    "    # Get the logits, action, and take one step in the environment\n",
    "    observation = observation.reshape(1, -1)\n",
    "    logits, action = sample_action(observation)\n",
    "    #action = [env.action_space.shape[0]//2]\n",
    "    #print(type(action[0].numpy()))\n",
    "    observation_new, reward, done, info = env.step(action[0].numpy())\n",
    "    episode_return += reward\n",
    "\n",
    "    # Update the observation\n",
    "    observation = observation_new\n",
    "print(episode_return)"
   ]
  },
  {
   "cell_type": "code",
   "execution_count": 48,
   "metadata": {
    "colab": {
     "base_uri": "https://localhost:8080/",
     "height": 617
    },
    "id": "MrSJapY0QMDX",
    "outputId": "d3c4987d-a442-4758-b30d-5a399f4dfe5c"
   },
   "outputs": [
    {
     "name": "stdout",
     "output_type": "stream",
     "text": [
      "means:\n",
      "roll=24.575817785104\tpitch=55.524261684793906\tyaw=21.91918691796639\n",
      "std:\n",
      "roll=16.348147381743964\tpitch=9.45748698893209\tyaw=8.11173573491622\n"
     ]
    },
    {
     "name": "stderr",
     "output_type": "stream",
     "text": [
      "C:\\Users\\Алексей\\AppData\\Local\\Temp\\ipykernel_328\\3660080882.py:27: UserWarning: Matplotlib is currently using module://matplotlib_inline.backend_inline, which is a non-GUI backend, so cannot show the figure.\n",
      "  fig.show()\n"
     ]
    },
    {
     "data": {
      "image/png": "[encoded data removed]",
      "text/plain": [
       "<Figure size 1152x576 with 1 Axes>"
      ]
     },
     "metadata": {
      "needs_background": "light"
     },
     "output_type": "display_data"
    }
   ],
   "source": [
    "x = np.array(info['x'])\n",
    "t = np.array(info['t'])\n",
    "roll, pitch, yaw = quat2rpy_deg(x[:,0], x[:,1], x[:,2], x[:,3])\n",
    "size = roll.shape[0]//3\n",
    "print(f'means:\\nroll={np.mean(roll[-size:])}\\tpitch={np.mean(pitch[-size:])}\\tyaw={np.mean(yaw[-size:])}\\n\\\n",
    "std:\\nroll={np.std(roll[-size:])}\\tpitch={np.std(pitch[-size:])}\\tyaw={np.std(yaw[-size:])}')\n",
    "\n",
    "plot_euler_angles(t, roll, pitch, yaw, filename='angles2.pdf', inset=True)"
   ]
  },
  {
   "cell_type": "code",
   "execution_count": 44,
   "metadata": {},
   "outputs": [
    {
     "data": {
      "text/plain": [
       "[<matplotlib.lines.Line2D at 0x20053f1ad00>,\n",
       " <matplotlib.lines.Line2D at 0x20053f1ad60>,\n",
       " <matplotlib.lines.Line2D at 0x20053f1ae80>]"
      ]
     },
     "execution_count": 44,
     "metadata": {},
     "output_type": "execute_result"
    },
    {
     "data": {
      "image/png": "[encoded data removed]",
      "text/plain": [
       "<Figure size 432x288 with 1 Axes>"
      ]
     },
     "metadata": {
      "needs_background": "light"
     },
     "output_type": "display_data"
    }
   ],
   "source": [
    "plt.plot(x[:, 7:10])"
   ]
  },
  {
   "cell_type": "code",
   "execution_count": null,
   "metadata": {
    "id": "EsbZBb30IwPX"
   },
   "outputs": [],
   "source": [
    "start = np.array([np.cos(np.pi/2),0,0,np.sin(np.pi/2),0,0,0,0,0,0])"
   ]
  },
  {
   "cell_type": "code",
   "execution_count": null,
   "metadata": {
    "colab": {
     "base_uri": "https://localhost:8080/",
     "height": 585
    },
    "id": "pimvg-KpObHG",
    "outputId": "bf292db3-cf9c-4caa-fc44-09c5c11b6e7d"
   },
   "outputs": [],
   "source": [
    "roll, pitch, yaw = quat2rpy_deg(x[:,0], x[:,1], x[:,2], x[:,3])\n",
    "   \n",
    "fig1 = plt.figure(figsize=(16,8))\n",
    "ax1 = fig1.add_subplot(2,2,1)\n",
    "\n",
    "ax1.set_title(\"Euler Angles\")\n",
    "ax1.plot(t, roll, label = 'roll', color = 'red')\n",
    "ax1.plot(t, pitch, label = 'pitch', color = 'green')\n",
    "ax1.plot(t, yaw, label = 'yaw', color = 'blue')\n",
    "ax1.set_ylabel(r'angles, [deg]')\n",
    "ax1.set_xlabel(r't, [s]')\n",
    "ax1.grid(True)\n",
    "ax1.legend()\n",
    "\n",
    "ax2 = fig1.add_subplot(2,2,2)\n",
    "\n",
    "ax2.set_title(\"Angular Velocity\")\n",
    "ax2.plot(t, x[:,4], label = '$\\omega_x$', color = 'red')\n",
    "ax2.plot(t, x[:,5], label = '$\\omega_y$', color = 'green')\n",
    "ax2.plot(t, x[:,6], label = '$\\omega_z$', color = 'blue')\n",
    "ax2.set_ylabel(r'angular velocity, [rad/s]')\n",
    "ax2.set_xlabel(r't, [s]')\n",
    "ax2.grid(True)\n",
    "ax2.legend()\n",
    "\n",
    "ax2 = fig1.add_subplot(2,2,3)\n",
    "\n",
    "ax2.set_title(\"RW angular momentum\")\n",
    "ax2.plot(t, x[:,7], label = '$h_x$', color = 'red')\n",
    "ax2.plot(t, x[:,8], label = '$h_y$', color = 'green')\n",
    "ax2.plot(t, x[:,9], label = '$h_z$', color = 'blue')\n",
    "ax2.set_ylabel(r'h, [Nms]')\n",
    "ax2.set_xlabel(r't, [s]')\n",
    "ax2.grid(True)\n",
    "ax2.legend()\n",
    "\n",
    "plt.tight_layout()"
   ]
  },
  {
   "cell_type": "markdown",
   "metadata": {
    "id": "8KSETtLE9g9G"
   },
   "source": [
    "## Saving the weights"
   ]
  },
  {
   "cell_type": "code",
   "execution_count": null,
   "metadata": {
    "colab": {
     "base_uri": "https://localhost:8080/",
     "height": 17
    },
    "id": "s8abmL43pFlS",
    "outputId": "e7292d93-511e-408f-bab2-2694560795e2"
   },
   "outputs": [],
   "source": [
    "actor_config = actor.get_config()\n",
    "actor_weights = actor.get_weights()\n",
    "critic_config = critic.get_config()\n",
    "critic_weights = critic.get_weights()\n",
    "import pickle\n",
    "name = f'configs_weights_sin{iterations} {reward_thresh}.pickle'\n",
    "with open(name, 'wb') as f:\n",
    "  pickle.dump((actor_config, actor_weights, critic_config, critic_weights), f)"
   ]
  },
  {
   "cell_type": "markdown",
   "metadata": {
    "id": "6DsvSYd59mek"
   },
   "source": [
    "## Importing the weights"
   ]
  },
  {
   "cell_type": "code",
   "execution_count": 7,
   "metadata": {
    "id": "-p3CM-9IM5MX"
   },
   "outputs": [],
   "source": [
    "import pickle\n",
    "# iterations = 1500\n",
    "# reward_thresh = 0.0043\n",
    "name = f'data/configs_weights.pickle'\n",
    "with open(name, 'rb') as f:\n",
    "  something = pickle.load(f)\n",
    "\n",
    "actor_config, actor_weights ,critic_config, critic_weights = something\n",
    "actor = keras.Model.from_config(actor_config)\n",
    "actor.set_weights(actor_weights)\n",
    "critic = keras.Model.from_config(critic_config)\n",
    "critic.set_weights(critic_weights)"
   ]
  },
  {
   "cell_type": "code",
   "execution_count": null,
   "metadata": {},
   "outputs": [],
   "source": []
  }
 ],
 "metadata": {
  "colab": {
   "collapsed_sections": [
    "RHRt4sMVHqPg",
    "XJZVUK_pHqPj"
   ],
   "name": "ppo_satellite_orientation_gravity_exp",
   "provenance": []
  },
  "kernelspec": {
   "display_name": "Python 3 (ipykernel)",
   "language": "python",
   "name": "python3"
  },
  "language_info": {
   "codemirror_mode": {
    "name": "ipython",
    "version": 3
   },
   "file_extension": ".py",
   "mimetype": "text/x-python",
   "name": "python",
   "nbconvert_exporter": "python",
   "pygments_lexer": "ipython3",
   "version": "3.8.10"
  }
 },
 "nbformat": 4,
 "nbformat_minor": 1
}
