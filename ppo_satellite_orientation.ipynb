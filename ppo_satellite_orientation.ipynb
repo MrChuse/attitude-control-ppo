{
 "cells": [
  {
   "cell_type": "markdown",
   "metadata": {
    "id": "l9g-wDw7HqPa"
   },
   "source": [
    "# Proximal Policy Optimization\n"
   ]
  },
  {
   "cell_type": "markdown",
   "metadata": {
    "id": "ZxEogGtvHqPf"
   },
   "source": [
    "## Introduction\n",
    "\n",
    "This code example solves the CartPole-v0 environment using a Proximal Policy Optimization (PPO) agent.\n",
    "\n",
    "\n",
    "### Proximal Policy Optimization\n",
    "\n",
    "PPO is a policy gradient method and can be used for environments with either discrete or continuous action spaces.\n",
    "It trains a stochastic policy in an on-policy way. Also, it utilizes the actor critic method. The actor maps the\n",
    "observation to an action and the critic gives an expectation of the rewards of the agent for the observation given.\n",
    "Firstly, it collects a set of trajectories for each epoch by sampling from the latest version of the stochastic policy.\n",
    "Then, the rewards-to-go and the advantage estimates are computed in order to update the policy and fit the value function.\n",
    "The policy is updated via a stochastic gradient ascent optimizer, while the value function is fitted via some gradient descent algorithm.\n",
    "This procedure is applied for many epochs until the environment is solved.\n",
    "\n",
    "![Algorithm](https://i.imgur.com/rd5tda1.png)\n",
    "\n",
    "- [PPO Original Paper](https://arxiv.org/pdf/1707.06347.pdf)\n",
    "- [OpenAI Spinning Up docs - PPO](https://spinningup.openai.com/en/latest/algorithms/ppo.html)\n",
    "\n",
    "### Note\n",
    "\n",
    "This code example uses Keras and Tensorflow v2. It is based on the PPO Original Paper,\n",
    "the OpenAI's Spinning Up docs for PPO, and the OpenAI's Spinning Up implementation of PPO using Tensorflow v1.\n",
    "\n",
    "[OpenAI Spinning Up Github - PPO](https://github.com/openai/spinningup/blob/master/spinup/algos/tf1/ppo/ppo.py)"
   ]
  },
  {
   "cell_type": "markdown",
   "metadata": {
    "id": "RHRt4sMVHqPg"
   },
   "source": [
    "## Libraries\n",
    "\n",
    "For this example the following libraries are used:\n",
    "\n",
    "1. `numpy` for n-dimensional arrays\n",
    "2. `tensorflow` and `keras` for building the deep RL PPO agent\n",
    "3. `gym` for getting everything we need about the environment\n",
    "4. `scipy.signal` for calculating the discounted cumulative sums of vectors"
   ]
  },
  {
   "cell_type": "code",
   "execution_count": 1,
   "metadata": {
    "id": "y78rKHSSHqPh"
   },
   "outputs": [
    {
     "data": {
      "application/javascript": [
       "if (!(\"Notification\" in window)) {\n",
       "    alert(\"This browser does not support desktop notifications, so the %%notify magic will not work.\");\n",
       "} else if (Notification.permission !== 'granted' && Notification.permission !== 'denied') {\n",
       "    Notification.requestPermission(function (permission) {\n",
       "        if(!('permission' in Notification)) {\n",
       "            Notification.permission = permission;\n",
       "        }\n",
       "    })\n",
       "}\n"
      ],
      "text/plain": [
       "<IPython.core.display.Javascript object>"
      ]
     },
     "metadata": {},
     "output_type": "display_data"
    }
   ],
   "source": [
    "import numpy as np\n",
    "import tensorflow as tf\n",
    "from tensorflow import keras\n",
    "from tensorflow.keras import layers\n",
    "import gym\n",
    "import scipy.signal\n",
    "import time\n",
    "from scipy.integrate import solve_ivp\n",
    "import matplotlib.pyplot as plt\n",
    "import tqdm\n",
    "%matplotlib inline\n",
    "%load_ext jupyternotify"
   ]
  },
  {
   "cell_type": "code",
   "execution_count": 78,
   "metadata": {
    "id": "xyKokzpKHqPj"
   },
   "outputs": [
    {
     "data": {
      "text/plain": [
       "array([[ 0.   ,  0.251,  0.   ],\n",
       "       [-0.384,  0.   ,  0.   ],\n",
       "       [ 0.   ,  1.25 ,  0.   ]])"
      ]
     },
     "execution_count": 78,
     "metadata": {},
     "output_type": "execute_result"
    }
   ],
   "source": [
    "%run utils.ipynb\n",
    "%run torque_dynamics.ipynb\n",
    "sat.L_p"
   ]
  },
  {
   "cell_type": "markdown",
   "metadata": {
    "id": "eclr-wmlHqPk"
   },
   "source": [
    "## Hyperparameters"
   ]
  },
  {
   "cell_type": "code",
   "execution_count": 3,
   "metadata": {
    "id": "4L9RbWNAHqPl"
   },
   "outputs": [],
   "source": [
    "# Hyperparameters of the PPO algorithm\n",
    "steps_per_epoch = 500\n",
    "epochs = 1000\n",
    "gamma = 0.99\n",
    "clip_ratio = 0.2\n",
    "policy_learning_rate = 3e-4\n",
    "value_function_learning_rate = 1e-3\n",
    "train_policy_iterations = 80\n",
    "train_value_iterations = 80\n",
    "lam = 0.95\n",
    "target_kl = 0.01\n",
    "hidden_sizes = (400, 300)\n",
    "\n",
    "# True if you want to render the environment\n",
    "render = False"
   ]
  },
  {
   "cell_type": "markdown",
   "metadata": {
    "id": "HyghzEOgQJ3w"
   },
   "source": [
    "## Physics"
   ]
  },
  {
   "cell_type": "code",
   "execution_count": 4,
   "metadata": {
    "id": "grBwDNIHKmkA"
   },
   "outputs": [],
   "source": [
    "def gravity_gradient_torque(quat, inertia_tensor, mean_motion):\n",
    "    Ae3 = rotate_vec_with_quat(quat, np.array([0., 0., 1.]))\n",
    "\n",
    "    return 3. * mean_motion ** 2. * cross_product(Ae3, inertia_tensor.dot(Ae3))    \n",
    "\n",
    "\n",
    "def rhs(t, x, sat, action):\n",
    "\n",
    "    quat = x[:4] / np.linalg.norm(x[:4])\n",
    "    omega = x[4:7]\n",
    "    h = x[7:10]\n",
    "     \n",
    "    omega_rel = omega - rotate_vec_with_quat(quat, np.array([0., sat.mean_motion, 0.]))    \n",
    "        \n",
    "    trq_gg = gravity_gradient_torque(quat, sat.J, sat.mean_motion)\n",
    "\n",
    "    x_dot = np.zeros(16)\n",
    "    omega_dot_rigid = trq_gg + action - cross_product(omega, sat.J.dot(omega) + h)\n",
    "    eta_dot_flex = sat.D.dot(x[13:]) + sat.K.dot(x[10:13])\n",
    "\n",
    "    x_dot[0] = -0.5 * quat[1:].dot(omega_rel)\n",
    "    x_dot[1:4] = 0.5 * (quat[0] * omega_rel + cross_product(quat[1:], omega_rel))\n",
    "    tmp = omega_dot_rigid + (sat.L_p.T).dot(eta_dot_flex)\n",
    "    x_dot[4:7] = sat.Aom.dot(sat.J_inv).dot(tmp)\n",
    "    x_dot[7:10] = - action\n",
    "    x_dot[10:13] = x[13:]\n",
    "    x_dot[13:] = - sat.Aeta.dot(eta_dot_flex + sat.L_p.dot(sat.J_inv).dot(omega_dot_rigid))\n",
    "        \n",
    "    return x_dot"
   ]
  },
  {
   "cell_type": "markdown",
   "metadata": {
    "id": "g4k0dL4KHqPm"
   },
   "source": [
    "## Initializations"
   ]
  },
  {
   "cell_type": "code",
   "execution_count": 5,
   "metadata": {
    "id": "K1iWcjWEHqPm"
   },
   "outputs": [],
   "source": [
    "# Initialize the environment and get the dimensionality of the\n",
    "# observation space and the number of possible actions\n",
    "env = TorqueDynamics(0.1, np.array([1, 0, 0, 0]), 16)\n",
    "observation_dimensions = env.observation_space.shape[0]\n",
    "num_actions = env.action_space.shape[0]\n",
    "\n",
    "# Initialize the buffer\n",
    "buffer = Buffer(observation_dimensions, steps_per_epoch)\n",
    "\n",
    "# Initialize the actor and the critic as keras models\n",
    "observation_input = keras.Input(shape=(observation_dimensions,), dtype=tf.float32)\n",
    "logits = mlp(observation_input, list(hidden_sizes) + [num_actions], tf.nn.relu, None)\n",
    "actor = keras.Model(inputs=observation_input, outputs=logits)\n",
    "value = tf.squeeze(\n",
    "    mlp(observation_input, list(hidden_sizes) + [1], tf.nn.relu, None), axis=1\n",
    ")\n",
    "critic = keras.Model(inputs=observation_input, outputs=value)\n",
    "\n",
    "# Initialize the policy and the value function optimizers\n",
    "policy_optimizer = keras.optimizers.Adam(learning_rate=policy_learning_rate)\n",
    "value_optimizer = keras.optimizers.Adam(learning_rate=value_function_learning_rate)\n",
    "\n"
   ]
  },
  {
   "cell_type": "markdown",
   "metadata": {
    "id": "TdMXapmNHqPn"
   },
   "source": [
    "## Train"
   ]
  },
  {
   "cell_type": "code",
   "execution_count": 65,
   "metadata": {
    "id": "-E1Q3xHBamXF"
   },
   "outputs": [
    {
     "name": "stdout",
     "output_type": "stream",
     "text": [
      "Accounting for the gravity\n"
     ]
    },
    {
     "name": "stderr",
     "output_type": "stream",
     "text": [
      "\r",
      "  0%|          | 0/20 [00:00<?, ?it/s]"
     ]
    },
    {
     "name": "stdout",
     "output_type": "stream",
     "text": [
      "Run #0.\n",
      "starting training with 20 epochs\n",
      " Epoch: 1. Mean Return: 3163.871998021647. Mean Length: 500.0\n",
      " Epoch: 2. Mean Return: 2123.7806392521197. Mean Length: 500.0\n",
      " Epoch: 3. Mean Return: 2730.638224186399. Mean Length: 500.0\n",
      " Epoch: 4. Mean Return: 2830.7089064184647. Mean Length: 500.0\n",
      " Epoch: 5. Mean Return: 3165.829026170822. Mean Length: 500.0\n",
      " Epoch: 6. Mean Return: 2617.2937010858122. Mean Length: 500.0\n",
      " Epoch: 7. Mean Return: 2316.303407021235. Mean Length: 500.0\n",
      " Epoch: 8. Mean Return: 3402.1628753437762. Mean Length: 500.0\n",
      " Epoch: 9. Mean Return: 2195.6881845319917. Mean Length: 500.0\n",
      " Epoch: 10. Mean Return: 3351.0021498312576. Mean Length: 500.0\n",
      " Epoch: 11. Mean Return: 2427.6535209453923. Mean Length: 500.0\n",
      " Epoch: 12. Mean Return: 2459.45668013585. Mean Length: 500.0\n",
      " Epoch: 13. Mean Return: 3344.0207220561924. Mean Length: 500.0\n",
      " Epoch: 14. Mean Return: 2497.6373996007387. Mean Length: 500.0\n",
      " Epoch: 15. Mean Return: 3138.208049807849. Mean Length: 500.0\n",
      " Epoch: 16. Mean Return: 3197.696916848796. Mean Length: 500.0\n",
      " Epoch: 17. Mean Return: 2513.7124765109397. Mean Length: 500.0\n",
      " Epoch: 18. Mean Return: 2901.076655301415. Mean Length: 500.0\n",
      " Epoch: 19. Mean Return: 3384.4188222524717. Mean Length: 500.0\n"
     ]
    },
    {
     "name": "stderr",
     "output_type": "stream",
     "text": [
      "\r",
      "  5%|▌         | 1/20 [01:29<28:14, 89.17s/it]"
     ]
    },
    {
     "name": "stdout",
     "output_type": "stream",
     "text": [
      " Epoch: 20. Mean Return: 2650.1130225625407. Mean Length: 500.0\n",
      "Current batch mean is 2123.7806392521197\n",
      "----------\n",
      "Run #1.\n",
      "starting training with 20 epochs\n",
      " Epoch: 1. Mean Return: 2912.4505703263694. Mean Length: 500.0\n",
      " Epoch: 2. Mean Return: 2669.9464759469424. Mean Length: 500.0\n",
      " Epoch: 3. Mean Return: 3228.280291956966. Mean Length: 500.0\n",
      " Epoch: 4. Mean Return: 2874.0430447372287. Mean Length: 500.0\n",
      " Epoch: 5. Mean Return: 2175.9403973096037. Mean Length: 500.0\n",
      " Epoch: 6. Mean Return: 2281.8887427972886. Mean Length: 500.0\n",
      " Epoch: 7. Mean Return: 2324.420837982473. Mean Length: 500.0\n",
      " Epoch: 8. Mean Return: 2888.6953621113194. Mean Length: 500.0\n",
      " Epoch: 9. Mean Return: 2446.871750205518. Mean Length: 500.0\n",
      " Epoch: 10. Mean Return: 2677.8698616866222. Mean Length: 500.0\n",
      " Epoch: 11. Mean Return: 2716.155945836074. Mean Length: 500.0\n",
      " Epoch: 12. Mean Return: 2922.7486688633976. Mean Length: 500.0\n",
      " Epoch: 13. Mean Return: 2613.2618176333876. Mean Length: 500.0\n",
      " Epoch: 14. Mean Return: 2653.8908646424425. Mean Length: 500.0\n",
      " Epoch: 15. Mean Return: 2170.7131331635815. Mean Length: 500.0\n",
      " Epoch: 16. Mean Return: 3054.8059408919657. Mean Length: 500.0\n",
      " Epoch: 17. Mean Return: 2299.071374031455. Mean Length: 500.0\n",
      " Epoch: 18. Mean Return: 3364.490414561334. Mean Length: 500.0\n",
      " Epoch: 19. Mean Return: 2550.865172434439. Mean Length: 500.0\n"
     ]
    },
    {
     "name": "stderr",
     "output_type": "stream",
     "text": [
      "\r",
      " 10%|█         | 2/20 [03:00<27:12, 90.70s/it]"
     ]
    },
    {
     "name": "stdout",
     "output_type": "stream",
     "text": [
      " Epoch: 20. Mean Return: 3288.2500401597604. Mean Length: 500.0\n",
      "Current batch mean is 2170.7131331635815\n",
      "----------\n",
      "Run #2.\n",
      "starting training with 20 epochs\n",
      " Epoch: 1. Mean Return: 3226.277813692138. Mean Length: 500.0\n",
      " Epoch: 2. Mean Return: 2665.69551678735. Mean Length: 500.0\n",
      " Epoch: 3. Mean Return: 3013.6354626743255. Mean Length: 500.0\n",
      " Epoch: 4. Mean Return: 2692.953017902338. Mean Length: 500.0\n",
      " Epoch: 5. Mean Return: 2971.330108913985. Mean Length: 500.0\n",
      " Epoch: 6. Mean Return: 3047.3920172338017. Mean Length: 500.0\n",
      " Epoch: 7. Mean Return: 3409.6493586150204. Mean Length: 500.0\n",
      " Epoch: 8. Mean Return: 2255.238310938542. Mean Length: 500.0\n",
      " Epoch: 9. Mean Return: 2943.6044795200287. Mean Length: 500.0\n",
      " Epoch: 10. Mean Return: 2888.60246126877. Mean Length: 500.0\n",
      " Epoch: 11. Mean Return: 2296.7523478676317. Mean Length: 500.0\n",
      " Epoch: 12. Mean Return: 2551.4770875702548. Mean Length: 500.0\n",
      " Epoch: 13. Mean Return: 2230.780737205773. Mean Length: 500.0\n",
      " Epoch: 14. Mean Return: 3076.547366958702. Mean Length: 500.0\n",
      " Epoch: 15. Mean Return: 3028.5956676429123. Mean Length: 500.0\n",
      " Epoch: 16. Mean Return: 2765.3325929668968. Mean Length: 500.0\n",
      " Epoch: 17. Mean Return: 2998.4339555448705. Mean Length: 500.0\n",
      " Epoch: 18. Mean Return: 2867.4763602692897. Mean Length: 500.0\n",
      " Epoch: 19. Mean Return: 2963.1429645323906. Mean Length: 500.0\n"
     ]
    },
    {
     "name": "stderr",
     "output_type": "stream",
     "text": [
      "\r",
      " 15%|█▌        | 3/20 [04:35<26:08, 92.28s/it]"
     ]
    },
    {
     "name": "stdout",
     "output_type": "stream",
     "text": [
      " Epoch: 20. Mean Return: 2268.9770798930404. Mean Length: 500.0\n",
      "Current batch mean is 2230.780737205773\n",
      "----------\n",
      "Run #3.\n",
      "starting training with 20 epochs\n",
      " Epoch: 1. Mean Return: 3256.8988519186705. Mean Length: 500.0\n",
      " Epoch: 2. Mean Return: 3086.0200733989363. Mean Length: 500.0\n",
      " Epoch: 3. Mean Return: 2942.7477969580455. Mean Length: 500.0\n",
      " Epoch: 4. Mean Return: 2972.90964907125. Mean Length: 500.0\n",
      " Epoch: 5. Mean Return: 3250.9702281732075. Mean Length: 500.0\n",
      " Epoch: 6. Mean Return: 3286.858435783473. Mean Length: 500.0\n",
      " Epoch: 7. Mean Return: 3135.4552585208426. Mean Length: 500.0\n",
      " Epoch: 8. Mean Return: 3332.9003894999237. Mean Length: 500.0\n",
      " Epoch: 9. Mean Return: 2220.169882929496. Mean Length: 500.0\n",
      " Epoch: 10. Mean Return: 3360.445275261667. Mean Length: 500.0\n",
      " Epoch: 11. Mean Return: 3330.2722592858013. Mean Length: 500.0\n",
      " Epoch: 12. Mean Return: 2284.265804657128. Mean Length: 500.0\n",
      " Epoch: 13. Mean Return: 3046.631029454909. Mean Length: 500.0\n",
      " Epoch: 14. Mean Return: 2603.3987852172113. Mean Length: 500.0\n",
      " Epoch: 15. Mean Return: 3049.0314184578338. Mean Length: 500.0\n",
      " Epoch: 16. Mean Return: 2281.458758819205. Mean Length: 500.0\n",
      " Epoch: 17. Mean Return: 2986.2437489296085. Mean Length: 500.0\n",
      " Epoch: 18. Mean Return: 2365.041751990081. Mean Length: 500.0\n",
      " Epoch: 19. Mean Return: 3373.7170616402077. Mean Length: 500.0\n"
     ]
    },
    {
     "name": "stderr",
     "output_type": "stream",
     "text": [
      "\r",
      " 20%|██        | 4/20 [06:04<24:21, 91.32s/it]"
     ]
    },
    {
     "name": "stdout",
     "output_type": "stream",
     "text": [
      " Epoch: 20. Mean Return: 2645.789951915739. Mean Length: 500.0\n",
      "Current batch mean is 2220.169882929496\n",
      "----------\n",
      "Run #4.\n",
      "starting training with 20 epochs\n",
      " Epoch: 1. Mean Return: 2423.8213382948475. Mean Length: 500.0\n",
      " Epoch: 2. Mean Return: 3235.6410533105263. Mean Length: 500.0\n",
      " Epoch: 3. Mean Return: 2293.9363959198317. Mean Length: 500.0\n",
      " Epoch: 4. Mean Return: 2464.3055254400692. Mean Length: 500.0\n",
      " Epoch: 5. Mean Return: 3193.4672529844797. Mean Length: 500.0\n",
      " Epoch: 6. Mean Return: 2696.856354935507. Mean Length: 500.0\n",
      " Epoch: 7. Mean Return: 2898.1403632007805. Mean Length: 500.0\n",
      " Epoch: 8. Mean Return: 2246.3751909063144. Mean Length: 500.0\n",
      " Epoch: 9. Mean Return: 3026.777729302719. Mean Length: 500.0\n",
      " Epoch: 10. Mean Return: 2664.9613222271237. Mean Length: 500.0\n",
      " Epoch: 11. Mean Return: 3215.237071938373. Mean Length: 500.0\n",
      " Epoch: 12. Mean Return: 2821.1830675658043. Mean Length: 500.0\n",
      " Epoch: 13. Mean Return: 2721.7822672511143. Mean Length: 500.0\n",
      " Epoch: 14. Mean Return: 2217.8500314113717. Mean Length: 500.0\n",
      " Epoch: 15. Mean Return: 2552.8940537140256. Mean Length: 500.0\n",
      " Epoch: 16. Mean Return: 2254.9018806223085. Mean Length: 500.0\n",
      " Epoch: 17. Mean Return: 3012.87575836845. Mean Length: 500.0\n",
      " Epoch: 18. Mean Return: 3202.560114726421. Mean Length: 500.0\n",
      " Epoch: 19. Mean Return: 2611.3867194928616. Mean Length: 500.0\n"
     ]
    },
    {
     "name": "stderr",
     "output_type": "stream",
     "text": [
      "\r",
      " 25%|██▌       | 5/20 [07:33<22:36, 90.46s/it]"
     ]
    },
    {
     "name": "stdout",
     "output_type": "stream",
     "text": [
      " Epoch: 20. Mean Return: 2723.2254951823593. Mean Length: 500.0\n",
      "Current batch mean is 2217.8500314113717\n",
      "----------\n",
      "Run #5.\n",
      "starting training with 20 epochs\n",
      " Epoch: 1. Mean Return: 2701.2272578308243. Mean Length: 500.0\n",
      " Epoch: 2. Mean Return: 3486.1257987587524. Mean Length: 500.0\n",
      " Epoch: 3. Mean Return: 2765.670450145149. Mean Length: 500.0\n",
      " Epoch: 4. Mean Return: 2426.121691997233. Mean Length: 500.0\n",
      " Epoch: 5. Mean Return: 2935.346820023824. Mean Length: 500.0\n",
      " Epoch: 6. Mean Return: 2710.603569616918. Mean Length: 500.0\n",
      " Epoch: 7. Mean Return: 3465.39720834769. Mean Length: 500.0\n",
      " Epoch: 8. Mean Return: 2936.731163628752. Mean Length: 500.0\n",
      " Epoch: 9. Mean Return: 2472.0950617849744. Mean Length: 500.0\n",
      " Epoch: 10. Mean Return: 2593.2092711688642. Mean Length: 500.0\n",
      " Epoch: 11. Mean Return: 2642.147458971457. Mean Length: 500.0\n",
      " Epoch: 12. Mean Return: 2427.5066173927653. Mean Length: 500.0\n",
      " Epoch: 13. Mean Return: 3330.5969821125054. Mean Length: 500.0\n",
      " Epoch: 14. Mean Return: 2922.8704676053153. Mean Length: 500.0\n",
      " Epoch: 15. Mean Return: 2498.5576173542054. Mean Length: 500.0\n",
      " Epoch: 16. Mean Return: 3055.857073679624. Mean Length: 500.0\n",
      " Epoch: 17. Mean Return: 3329.275991155418. Mean Length: 500.0\n",
      " Epoch: 18. Mean Return: 2508.927458646409. Mean Length: 500.0\n",
      " Epoch: 19. Mean Return: 2909.4012485774056. Mean Length: 500.0\n"
     ]
    },
    {
     "name": "stderr",
     "output_type": "stream",
     "text": [
      "\r",
      " 30%|███       | 6/20 [09:03<21:01, 90.11s/it]"
     ]
    },
    {
     "name": "stdout",
     "output_type": "stream",
     "text": [
      " Epoch: 20. Mean Return: 2342.231675579944. Mean Length: 500.0\n",
      "Current batch mean is 2342.231675579944\n",
      "----------\n",
      "Run #6.\n",
      "starting training with 20 epochs\n",
      " Epoch: 1. Mean Return: 3485.462680485551. Mean Length: 500.0\n",
      " Epoch: 2. Mean Return: 2914.3674582565936. Mean Length: 500.0\n",
      " Epoch: 3. Mean Return: 2707.432205239017. Mean Length: 500.0\n",
      " Epoch: 4. Mean Return: 2528.526242079737. Mean Length: 500.0\n",
      " Epoch: 5. Mean Return: 3201.7631634057716. Mean Length: 500.0\n",
      " Epoch: 6. Mean Return: 2520.123790455836. Mean Length: 500.0\n",
      " Epoch: 7. Mean Return: 2135.7014566437706. Mean Length: 500.0\n",
      " Epoch: 8. Mean Return: 2259.5702278523736. Mean Length: 500.0\n",
      " Epoch: 9. Mean Return: 2525.7190519068163. Mean Length: 500.0\n",
      " Epoch: 10. Mean Return: 2259.5329030922107. Mean Length: 500.0\n",
      " Epoch: 11. Mean Return: 2555.0963127119426. Mean Length: 500.0\n",
      " Epoch: 12. Mean Return: 2654.5138508810924. Mean Length: 500.0\n",
      " Epoch: 13. Mean Return: 3086.135370577128. Mean Length: 500.0\n",
      " Epoch: 14. Mean Return: 2790.620884844986. Mean Length: 500.0\n",
      " Epoch: 15. Mean Return: 2157.371642489381. Mean Length: 500.0\n",
      " Epoch: 16. Mean Return: 3544.221724318335. Mean Length: 500.0\n",
      " Epoch: 17. Mean Return: 2531.7040018466278. Mean Length: 500.0\n",
      " Epoch: 18. Mean Return: 3296.439708751979. Mean Length: 500.0\n",
      " Epoch: 19. Mean Return: 3044.951040951302. Mean Length: 500.0\n"
     ]
    },
    {
     "name": "stderr",
     "output_type": "stream",
     "text": [
      "\r",
      " 35%|███▌      | 7/20 [10:35<19:41, 90.89s/it]"
     ]
    },
    {
     "name": "stdout",
     "output_type": "stream",
     "text": [
      " Epoch: 20. Mean Return: 2157.5496085256727. Mean Length: 500.0\n",
      "Current batch mean is 2135.7014566437706\n",
      "----------\n",
      "Run #7.\n",
      "starting training with 20 epochs\n",
      " Epoch: 1. Mean Return: 3283.654956514655. Mean Length: 500.0\n",
      " Epoch: 2. Mean Return: 3046.98670883758. Mean Length: 500.0\n",
      " Epoch: 3. Mean Return: 2557.6498403426103. Mean Length: 500.0\n",
      " Epoch: 4. Mean Return: 2309.280932312554. Mean Length: 500.0\n",
      " Epoch: 5. Mean Return: 2355.9385833814167. Mean Length: 500.0\n",
      " Epoch: 6. Mean Return: 2702.363010853454. Mean Length: 500.0\n",
      " Epoch: 7. Mean Return: 2306.3255087176617. Mean Length: 500.0\n",
      " Epoch: 8. Mean Return: 2711.559979199556. Mean Length: 500.0\n",
      " Epoch: 9. Mean Return: 3209.9509552437244. Mean Length: 500.0\n",
      " Epoch: 10. Mean Return: 3117.4907314817374. Mean Length: 500.0\n",
      " Epoch: 11. Mean Return: 2735.950177004876. Mean Length: 500.0\n",
      " Epoch: 12. Mean Return: 3587.9124636908655. Mean Length: 500.0\n",
      " Epoch: 13. Mean Return: 2690.742481802989. Mean Length: 500.0\n",
      " Epoch: 14. Mean Return: 3217.89627499775. Mean Length: 500.0\n",
      " Epoch: 15. Mean Return: 3351.0438782229135. Mean Length: 500.0\n",
      " Epoch: 16. Mean Return: 2729.2520676873846. Mean Length: 500.0\n",
      " Epoch: 17. Mean Return: 3463.830946543543. Mean Length: 500.0\n",
      " Epoch: 18. Mean Return: 2589.491518759756. Mean Length: 500.0\n",
      " Epoch: 19. Mean Return: 3147.755783597854. Mean Length: 500.0\n"
     ]
    },
    {
     "name": "stderr",
     "output_type": "stream",
     "text": [
      "\r",
      " 40%|████      | 8/20 [12:04<18:03, 90.26s/it]"
     ]
    },
    {
     "name": "stdout",
     "output_type": "stream",
     "text": [
      " Epoch: 20. Mean Return: 3234.392162892392. Mean Length: 500.0\n",
      "Current batch mean is 2306.3255087176617\n",
      "----------\n",
      "Run #8.\n",
      "starting training with 20 epochs\n",
      " Epoch: 1. Mean Return: 2916.903807041918. Mean Length: 500.0\n",
      " Epoch: 2. Mean Return: 2623.2488604553273. Mean Length: 500.0\n",
      " Epoch: 3. Mean Return: 2781.5345560741375. Mean Length: 500.0\n",
      " Epoch: 4. Mean Return: 2506.8448030454906. Mean Length: 500.0\n",
      " Epoch: 5. Mean Return: 2568.2537917162686. Mean Length: 500.0\n",
      " Epoch: 6. Mean Return: 2681.350571467321. Mean Length: 500.0\n",
      " Epoch: 7. Mean Return: 2430.146325643672. Mean Length: 500.0\n",
      " Epoch: 8. Mean Return: 3162.05215330605. Mean Length: 500.0\n",
      " Epoch: 9. Mean Return: 3014.1964232936793. Mean Length: 500.0\n",
      " Epoch: 10. Mean Return: 2092.7487821714035. Mean Length: 500.0\n",
      " Epoch: 11. Mean Return: 2449.9652376835693. Mean Length: 500.0\n",
      " Epoch: 12. Mean Return: 3095.4719035595967. Mean Length: 500.0\n",
      " Epoch: 13. Mean Return: 2994.3459896185655. Mean Length: 500.0\n",
      " Epoch: 14. Mean Return: 2303.9732677575394. Mean Length: 500.0\n",
      " Epoch: 15. Mean Return: 3082.2898802982063. Mean Length: 500.0\n",
      " Epoch: 16. Mean Return: 2593.529981645224. Mean Length: 500.0\n",
      " Epoch: 17. Mean Return: 3203.1538359763945. Mean Length: 500.0\n",
      " Epoch: 18. Mean Return: 2318.341004635235. Mean Length: 500.0\n",
      " Epoch: 19. Mean Return: 2416.5068775163486. Mean Length: 500.0\n"
     ]
    },
    {
     "name": "stderr",
     "output_type": "stream",
     "text": [
      "\r",
      " 45%|████▌     | 9/20 [13:34<16:31, 90.14s/it]"
     ]
    },
    {
     "name": "stdout",
     "output_type": "stream",
     "text": [
      " Epoch: 20. Mean Return: 2393.2416322717727. Mean Length: 500.0\n",
      "Current batch mean is 2092.7487821714035\n",
      "----------\n",
      "Run #9.\n",
      "starting training with 20 epochs\n",
      " Epoch: 1. Mean Return: 2456.5304679130586. Mean Length: 500.0\n",
      " Epoch: 2. Mean Return: 2830.024625378463. Mean Length: 500.0\n",
      " Epoch: 3. Mean Return: 3456.0195553356275. Mean Length: 500.0\n",
      " Epoch: 4. Mean Return: 2852.479706444602. Mean Length: 500.0\n",
      " Epoch: 5. Mean Return: 3403.0012775176724. Mean Length: 500.0\n",
      " Epoch: 6. Mean Return: 3561.6165069603385. Mean Length: 500.0\n",
      " Epoch: 7. Mean Return: 2781.759392104987. Mean Length: 500.0\n",
      " Epoch: 8. Mean Return: 2306.371886141183. Mean Length: 500.0\n",
      " Epoch: 9. Mean Return: 3223.2953882967945. Mean Length: 500.0\n",
      " Epoch: 10. Mean Return: 3012.3759219498274. Mean Length: 500.0\n",
      " Epoch: 11. Mean Return: 3364.3676223887846. Mean Length: 500.0\n",
      " Epoch: 12. Mean Return: 3057.300240104385. Mean Length: 500.0\n",
      " Epoch: 13. Mean Return: 3156.4841070699295. Mean Length: 500.0\n",
      " Epoch: 14. Mean Return: 2330.9179285200844. Mean Length: 500.0\n",
      " Epoch: 15. Mean Return: 2934.8848720287906. Mean Length: 500.0\n",
      " Epoch: 16. Mean Return: 3192.7702367211054. Mean Length: 500.0\n",
      " Epoch: 17. Mean Return: 3098.3890276792854. Mean Length: 500.0\n",
      " Epoch: 18. Mean Return: 3032.266332212766. Mean Length: 500.0\n",
      " Epoch: 19. Mean Return: 3021.3574169054127. Mean Length: 500.0\n"
     ]
    },
    {
     "name": "stderr",
     "output_type": "stream",
     "text": [
      "\r",
      " 50%|█████     | 10/20 [15:03<14:59, 89.91s/it]"
     ]
    },
    {
     "name": "stdout",
     "output_type": "stream",
     "text": [
      " Epoch: 20. Mean Return: 2567.103950176929. Mean Length: 500.0\n",
      "Current batch mean is 2306.371886141183\n",
      "----------\n",
      "Run #10.\n",
      "starting training with 20 epochs\n",
      " Epoch: 1. Mean Return: 3216.775610691162. Mean Length: 500.0\n",
      " Epoch: 2. Mean Return: 3057.327882318976. Mean Length: 500.0\n",
      " Epoch: 3. Mean Return: 3295.848072438155. Mean Length: 500.0\n",
      " Epoch: 4. Mean Return: 3471.764853398225. Mean Length: 500.0\n",
      " Epoch: 5. Mean Return: 2483.459406995497. Mean Length: 500.0\n",
      " Epoch: 6. Mean Return: 2762.6844167330755. Mean Length: 500.0\n",
      " Epoch: 7. Mean Return: 2985.6305469242684. Mean Length: 500.0\n",
      " Epoch: 8. Mean Return: 2890.8876344832943. Mean Length: 500.0\n",
      " Epoch: 9. Mean Return: 3242.357623880593. Mean Length: 500.0\n",
      " Epoch: 10. Mean Return: 3417.801010510278. Mean Length: 500.0\n",
      " Epoch: 11. Mean Return: 3313.7577708019767. Mean Length: 500.0\n",
      " Epoch: 12. Mean Return: 2891.5355856052042. Mean Length: 500.0\n",
      " Epoch: 13. Mean Return: 3423.457139720452. Mean Length: 500.0\n",
      " Epoch: 14. Mean Return: 2207.4428055872413. Mean Length: 500.0\n",
      " Epoch: 15. Mean Return: 2583.7233666987827. Mean Length: 500.0\n",
      " Epoch: 16. Mean Return: 2436.0266519124025. Mean Length: 500.0\n",
      " Epoch: 17. Mean Return: 3284.050462156256. Mean Length: 500.0\n",
      " Epoch: 18. Mean Return: 2555.718674359303. Mean Length: 500.0\n",
      " Epoch: 19. Mean Return: 3068.5856136705697. Mean Length: 500.0\n"
     ]
    },
    {
     "name": "stderr",
     "output_type": "stream",
     "text": [
      "\r",
      " 55%|█████▌    | 11/20 [16:34<13:30, 90.01s/it]"
     ]
    },
    {
     "name": "stdout",
     "output_type": "stream",
     "text": [
      " Epoch: 20. Mean Return: 3249.048090929702. Mean Length: 500.0\n",
      "Current batch mean is 2207.4428055872413\n",
      "----------\n",
      "Run #11.\n",
      "starting training with 20 epochs\n",
      " Epoch: 1. Mean Return: 2658.10546536962. Mean Length: 500.0\n",
      " Epoch: 2. Mean Return: 2479.977751085926. Mean Length: 500.0\n",
      " Epoch: 3. Mean Return: 2142.3746930804414. Mean Length: 500.0\n",
      " Epoch: 4. Mean Return: 3135.789892396177. Mean Length: 500.0\n",
      " Epoch: 5. Mean Return: 2031.4279180194078. Mean Length: 500.0\n",
      " Epoch: 6. Mean Return: 2020.9221849549929. Mean Length: 500.0\n",
      " Epoch: 7. Mean Return: 3331.2409692518136. Mean Length: 500.0\n",
      " Epoch: 8. Mean Return: 2338.3947882193593. Mean Length: 500.0\n",
      " Epoch: 9. Mean Return: 2632.3889186862084. Mean Length: 500.0\n",
      " Epoch: 10. Mean Return: 2566.749017395636. Mean Length: 500.0\n",
      " Epoch: 11. Mean Return: 1959.7826806725975. Mean Length: 500.0\n",
      " Epoch: 12. Mean Return: 2383.165077768395. Mean Length: 500.0\n",
      " Epoch: 13. Mean Return: 2844.1756544816803. Mean Length: 500.0\n",
      " Epoch: 14. Mean Return: 2428.7288856253213. Mean Length: 500.0\n",
      " Epoch: 15. Mean Return: 2437.889778923526. Mean Length: 500.0\n",
      " Epoch: 16. Mean Return: 2511.411847900745. Mean Length: 500.0\n",
      " Epoch: 17. Mean Return: 3062.4096072735815. Mean Length: 500.0\n",
      " Epoch: 18. Mean Return: 2738.2356881868486. Mean Length: 500.0\n",
      " Epoch: 19. Mean Return: 3173.7993907736054. Mean Length: 500.0\n"
     ]
    },
    {
     "name": "stderr",
     "output_type": "stream",
     "text": [
      "\r",
      " 60%|██████    | 12/20 [18:02<11:56, 89.53s/it]"
     ]
    },
    {
     "name": "stdout",
     "output_type": "stream",
     "text": [
      " Epoch: 20. Mean Return: 3063.982845307764. Mean Length: 500.0\n",
      "Current batch mean is 1959.7826806725975\n",
      "----------\n",
      "Run #12.\n",
      "starting training with 20 epochs\n",
      " Epoch: 1. Mean Return: 2028.0296990865095. Mean Length: 500.0\n",
      " Epoch: 2. Mean Return: 3104.5756989637152. Mean Length: 500.0\n",
      " Epoch: 3. Mean Return: 2904.191420838054. Mean Length: 500.0\n",
      " Epoch: 4. Mean Return: 2894.637977237004. Mean Length: 500.0\n",
      " Epoch: 5. Mean Return: 2909.693762389006. Mean Length: 500.0\n",
      " Epoch: 6. Mean Return: 3260.404533355095. Mean Length: 500.0\n",
      " Epoch: 7. Mean Return: 3251.5183452782326. Mean Length: 500.0\n",
      " Epoch: 8. Mean Return: 2562.0341448581303. Mean Length: 500.0\n",
      " Epoch: 9. Mean Return: 2177.73874525296. Mean Length: 500.0\n",
      " Epoch: 10. Mean Return: 3378.670419733651. Mean Length: 500.0\n",
      " Epoch: 11. Mean Return: 2948.2975404567715. Mean Length: 500.0\n",
      " Epoch: 12. Mean Return: 2030.772808562281. Mean Length: 500.0\n",
      " Epoch: 13. Mean Return: 3392.1858163838165. Mean Length: 500.0\n",
      " Epoch: 14. Mean Return: 2352.474599236277. Mean Length: 500.0\n",
      " Epoch: 15. Mean Return: 2689.32344505547. Mean Length: 500.0\n",
      " Epoch: 16. Mean Return: 2828.0387002510565. Mean Length: 500.0\n",
      " Epoch: 17. Mean Return: 2483.523561110596. Mean Length: 500.0\n",
      " Epoch: 18. Mean Return: 3370.5621049477118. Mean Length: 500.0\n",
      " Epoch: 19. Mean Return: 3270.5777809540177. Mean Length: 500.0\n"
     ]
    },
    {
     "name": "stderr",
     "output_type": "stream",
     "text": [
      "\r",
      " 65%|██████▌   | 13/20 [19:37<10:37, 91.03s/it]"
     ]
    },
    {
     "name": "stdout",
     "output_type": "stream",
     "text": [
      " Epoch: 20. Mean Return: 3140.073601239101. Mean Length: 500.0\n",
      "Current batch mean is 2028.0296990865095\n",
      "----------\n",
      "Run #13.\n",
      "starting training with 20 epochs\n",
      " Epoch: 1. Mean Return: 2711.936428028649. Mean Length: 500.0\n",
      " Epoch: 2. Mean Return: 2704.4936420896133. Mean Length: 500.0\n",
      " Epoch: 3. Mean Return: 2870.436719559673. Mean Length: 500.0\n",
      " Epoch: 4. Mean Return: 2901.139006255186. Mean Length: 500.0\n",
      " Epoch: 5. Mean Return: 2479.029904387929. Mean Length: 500.0\n",
      " Epoch: 6. Mean Return: 3013.995732700716. Mean Length: 500.0\n",
      " Epoch: 7. Mean Return: 2319.0843350069126. Mean Length: 500.0\n",
      " Epoch: 8. Mean Return: 2500.9947619543877. Mean Length: 500.0\n",
      " Epoch: 9. Mean Return: 3128.2815346729476. Mean Length: 500.0\n",
      " Epoch: 10. Mean Return: 2596.6141334194235. Mean Length: 500.0\n",
      " Epoch: 11. Mean Return: 3394.033516911431. Mean Length: 500.0\n",
      " Epoch: 12. Mean Return: 2575.485259554407. Mean Length: 500.0\n",
      " Epoch: 13. Mean Return: 2671.472689910488. Mean Length: 500.0\n",
      " Epoch: 14. Mean Return: 2331.09293721673. Mean Length: 500.0\n",
      " Epoch: 15. Mean Return: 3309.374272365131. Mean Length: 500.0\n",
      " Epoch: 16. Mean Return: 2742.497112338025. Mean Length: 500.0\n",
      " Epoch: 17. Mean Return: 2891.601970691712. Mean Length: 500.0\n",
      " Epoch: 18. Mean Return: 3324.594618590721. Mean Length: 500.0\n",
      " Epoch: 19. Mean Return: 3069.9663125686284. Mean Length: 500.0\n"
     ]
    },
    {
     "name": "stderr",
     "output_type": "stream",
     "text": [
      "\r",
      " 70%|███████   | 14/20 [21:08<09:06, 91.05s/it]"
     ]
    },
    {
     "name": "stdout",
     "output_type": "stream",
     "text": [
      " Epoch: 20. Mean Return: 2663.907897009001. Mean Length: 500.0\n",
      "Current batch mean is 2319.0843350069126\n",
      "----------\n",
      "Run #14.\n",
      "starting training with 20 epochs\n",
      " Epoch: 1. Mean Return: 2750.341422260016. Mean Length: 500.0\n",
      " Epoch: 2. Mean Return: 2547.3796964091075. Mean Length: 500.0\n",
      " Epoch: 3. Mean Return: 3557.0999987296395. Mean Length: 500.0\n",
      " Epoch: 4. Mean Return: 3309.981096477354. Mean Length: 500.0\n",
      " Epoch: 5. Mean Return: 3317.7973642926904. Mean Length: 500.0\n",
      " Epoch: 6. Mean Return: 2145.608896420664. Mean Length: 500.0\n",
      " Epoch: 7. Mean Return: 2768.705571625694. Mean Length: 500.0\n",
      " Epoch: 8. Mean Return: 2285.5020741506182. Mean Length: 500.0\n",
      " Epoch: 9. Mean Return: 2659.3463756909223. Mean Length: 500.0\n",
      " Epoch: 10. Mean Return: 3564.0557827326934. Mean Length: 500.0\n",
      " Epoch: 11. Mean Return: 2874.012733825991. Mean Length: 500.0\n",
      " Epoch: 12. Mean Return: 2186.4867923337847. Mean Length: 500.0\n",
      " Epoch: 13. Mean Return: 2872.2843517136066. Mean Length: 500.0\n",
      " Epoch: 14. Mean Return: 2980.1457840578273. Mean Length: 500.0\n",
      " Epoch: 15. Mean Return: 2388.6853083451037. Mean Length: 500.0\n",
      " Epoch: 16. Mean Return: 2195.2685914672757. Mean Length: 500.0\n",
      " Epoch: 17. Mean Return: 3235.0982865400074. Mean Length: 500.0\n",
      " Epoch: 18. Mean Return: 3038.5706323850904. Mean Length: 500.0\n",
      " Epoch: 19. Mean Return: 2785.28020193096. Mean Length: 500.0\n"
     ]
    },
    {
     "name": "stderr",
     "output_type": "stream",
     "text": [
      "\r",
      " 75%|███████▌  | 15/20 [22:37<07:32, 90.42s/it]"
     ]
    },
    {
     "name": "stdout",
     "output_type": "stream",
     "text": [
      " Epoch: 20. Mean Return: 2349.9496329709104. Mean Length: 500.0\n",
      "Current batch mean is 2145.608896420664\n",
      "----------\n",
      "Run #15.\n",
      "starting training with 20 epochs\n",
      " Epoch: 1. Mean Return: 2771.835437358469. Mean Length: 500.0\n",
      " Epoch: 2. Mean Return: 2992.3788827057347. Mean Length: 500.0\n",
      " Epoch: 3. Mean Return: 3145.365355184794. Mean Length: 500.0\n",
      " Epoch: 4. Mean Return: 3411.0605788213115. Mean Length: 500.0\n",
      " Epoch: 5. Mean Return: 3005.601762552115. Mean Length: 500.0\n",
      " Epoch: 6. Mean Return: 3465.7068972955813. Mean Length: 500.0\n",
      " Epoch: 7. Mean Return: 3132.544247807525. Mean Length: 500.0\n",
      " Epoch: 8. Mean Return: 2332.7538101254017. Mean Length: 500.0\n",
      " Epoch: 9. Mean Return: 3360.423192455785. Mean Length: 500.0\n",
      " Epoch: 10. Mean Return: 2754.641231608121. Mean Length: 500.0\n",
      " Epoch: 11. Mean Return: 2701.9051516092313. Mean Length: 500.0\n",
      " Epoch: 12. Mean Return: 2495.842293318925. Mean Length: 500.0\n",
      " Epoch: 13. Mean Return: 2914.008888311683. Mean Length: 500.0\n",
      " Epoch: 14. Mean Return: 3221.6720040563737. Mean Length: 500.0\n",
      " Epoch: 15. Mean Return: 2394.6006569911974. Mean Length: 500.0\n",
      " Epoch: 16. Mean Return: 2744.880738381365. Mean Length: 500.0\n",
      " Epoch: 17. Mean Return: 3451.693023625064. Mean Length: 500.0\n",
      " Epoch: 18. Mean Return: 2953.868639208435. Mean Length: 500.0\n",
      " Epoch: 19. Mean Return: 2924.4256564678026. Mean Length: 500.0\n"
     ]
    },
    {
     "name": "stderr",
     "output_type": "stream",
     "text": [
      "\r",
      " 80%|████████  | 16/20 [24:12<06:07, 91.81s/it]"
     ]
    },
    {
     "name": "stdout",
     "output_type": "stream",
     "text": [
      " Epoch: 20. Mean Return: 2380.115462296652. Mean Length: 500.0\n",
      "Current batch mean is 2332.7538101254017\n",
      "----------\n",
      "Run #16.\n",
      "starting training with 20 epochs\n",
      " Epoch: 1. Mean Return: 2457.8060065948534. Mean Length: 500.0\n",
      " Epoch: 2. Mean Return: 2752.2260242192606. Mean Length: 500.0\n",
      " Epoch: 3. Mean Return: 3331.087150280787. Mean Length: 500.0\n",
      " Epoch: 4. Mean Return: 2537.076291822343. Mean Length: 500.0\n",
      " Epoch: 5. Mean Return: 2311.685502639446. Mean Length: 500.0\n",
      " Epoch: 6. Mean Return: 2524.6823372382546. Mean Length: 500.0\n",
      " Epoch: 7. Mean Return: 2679.1688662517267. Mean Length: 500.0\n",
      " Epoch: 8. Mean Return: 3424.0068617607762. Mean Length: 500.0\n",
      " Epoch: 9. Mean Return: 2335.453420324712. Mean Length: 500.0\n",
      " Epoch: 10. Mean Return: 2794.2276811840356. Mean Length: 500.0\n",
      " Epoch: 11. Mean Return: 2800.376305301498. Mean Length: 500.0\n",
      " Epoch: 12. Mean Return: 2454.221214428085. Mean Length: 500.0\n",
      " Epoch: 13. Mean Return: 2654.605743464248. Mean Length: 500.0\n",
      " Epoch: 14. Mean Return: 2546.3517725430165. Mean Length: 500.0\n",
      " Epoch: 15. Mean Return: 2395.3819006499793. Mean Length: 500.0\n",
      " Epoch: 16. Mean Return: 3074.0295835542074. Mean Length: 500.0\n",
      " Epoch: 17. Mean Return: 2719.7041830893622. Mean Length: 500.0\n",
      " Epoch: 18. Mean Return: 3298.31521692666. Mean Length: 500.0\n",
      " Epoch: 19. Mean Return: 2957.86664756073. Mean Length: 500.0\n"
     ]
    },
    {
     "name": "stderr",
     "output_type": "stream",
     "text": [
      "\r",
      " 85%|████████▌ | 17/20 [25:47<04:38, 92.90s/it]"
     ]
    },
    {
     "name": "stdout",
     "output_type": "stream",
     "text": [
      " Epoch: 20. Mean Return: 2772.8714183561706. Mean Length: 500.0\n",
      "Current batch mean is 2311.685502639446\n",
      "----------\n",
      "Run #17.\n",
      "starting training with 20 epochs\n",
      " Epoch: 1. Mean Return: 2854.1228774790393. Mean Length: 500.0\n",
      " Epoch: 2. Mean Return: 2442.55059451715. Mean Length: 500.0\n",
      " Epoch: 3. Mean Return: 3301.3116700932196. Mean Length: 500.0\n",
      " Epoch: 4. Mean Return: 3120.711397974526. Mean Length: 500.0\n",
      " Epoch: 5. Mean Return: 2381.6484779003003. Mean Length: 500.0\n",
      " Epoch: 6. Mean Return: 3113.6128130253182. Mean Length: 500.0\n",
      " Epoch: 7. Mean Return: 2437.7446355029333. Mean Length: 500.0\n",
      " Epoch: 8. Mean Return: 2249.553961460039. Mean Length: 500.0\n",
      " Epoch: 9. Mean Return: 3072.2504785017923. Mean Length: 500.0\n",
      " Epoch: 10. Mean Return: 2525.321747063124. Mean Length: 500.0\n",
      " Epoch: 11. Mean Return: 3155.2415694825404. Mean Length: 500.0\n",
      " Epoch: 12. Mean Return: 2380.782132902698. Mean Length: 500.0\n",
      " Epoch: 13. Mean Return: 3147.4508293764407. Mean Length: 500.0\n",
      " Epoch: 14. Mean Return: 3096.208227849396. Mean Length: 500.0\n",
      " Epoch: 15. Mean Return: 2279.396280641891. Mean Length: 500.0\n",
      " Epoch: 16. Mean Return: 2719.585305963138. Mean Length: 500.0\n",
      " Epoch: 17. Mean Return: 3077.358123492422. Mean Length: 500.0\n",
      " Epoch: 18. Mean Return: 2326.6502311647564. Mean Length: 500.0\n",
      " Epoch: 19. Mean Return: 3388.7636688046978. Mean Length: 500.0\n"
     ]
    },
    {
     "name": "stderr",
     "output_type": "stream",
     "text": [
      "\r",
      " 90%|█████████ | 18/20 [27:19<03:05, 92.71s/it]"
     ]
    },
    {
     "name": "stdout",
     "output_type": "stream",
     "text": [
      " Epoch: 20. Mean Return: 2526.4731196635644. Mean Length: 500.0\n",
      "Current batch mean is 2249.553961460039\n",
      "----------\n",
      "Run #18.\n",
      "starting training with 20 epochs\n",
      " Epoch: 1. Mean Return: 3283.5172494554595. Mean Length: 500.0\n",
      " Epoch: 2. Mean Return: 2717.9353559634046. Mean Length: 500.0\n",
      " Epoch: 3. Mean Return: 2791.155350605851. Mean Length: 500.0\n",
      " Epoch: 4. Mean Return: 2247.117068778264. Mean Length: 500.0\n",
      " Epoch: 5. Mean Return: 2731.9966811771005. Mean Length: 500.0\n",
      " Epoch: 6. Mean Return: 2374.3092628847785. Mean Length: 500.0\n",
      " Epoch: 7. Mean Return: 2753.186641236982. Mean Length: 500.0\n",
      " Epoch: 8. Mean Return: 2596.479802430474. Mean Length: 500.0\n",
      " Epoch: 9. Mean Return: 2405.117397456121. Mean Length: 500.0\n",
      " Epoch: 10. Mean Return: 2406.425440717838. Mean Length: 500.0\n",
      " Epoch: 11. Mean Return: 2499.4491213864226. Mean Length: 500.0\n",
      " Epoch: 12. Mean Return: 2322.6787326102785. Mean Length: 500.0\n",
      " Epoch: 13. Mean Return: 3437.642565023172. Mean Length: 500.0\n",
      " Epoch: 14. Mean Return: 2518.969929916442. Mean Length: 500.0\n",
      " Epoch: 15. Mean Return: 3233.5725359108887. Mean Length: 500.0\n",
      " Epoch: 16. Mean Return: 2207.758322376441. Mean Length: 500.0\n",
      " Epoch: 17. Mean Return: 2190.2965565670406. Mean Length: 500.0\n",
      " Epoch: 18. Mean Return: 2267.336688058427. Mean Length: 500.0\n",
      " Epoch: 19. Mean Return: 2751.2898487819425. Mean Length: 500.0\n"
     ]
    },
    {
     "name": "stderr",
     "output_type": "stream",
     "text": [
      "\r",
      " 95%|█████████▌| 19/20 [28:48<01:31, 91.32s/it]"
     ]
    },
    {
     "name": "stdout",
     "output_type": "stream",
     "text": [
      " Epoch: 20. Mean Return: 3153.7363883501944. Mean Length: 500.0\n",
      "Current batch mean is 2190.2965565670406\n",
      "----------\n",
      "Run #19.\n",
      "starting training with 20 epochs\n",
      " Epoch: 1. Mean Return: 2328.019327867061. Mean Length: 500.0\n",
      " Epoch: 2. Mean Return: 3103.6524455957397. Mean Length: 500.0\n",
      " Epoch: 3. Mean Return: 3426.9162351549808. Mean Length: 500.0\n",
      " Epoch: 4. Mean Return: 3453.5253862263344. Mean Length: 500.0\n",
      " Epoch: 5. Mean Return: 2643.880474265501. Mean Length: 500.0\n",
      " Epoch: 6. Mean Return: 3380.1336386696953. Mean Length: 500.0\n",
      " Epoch: 7. Mean Return: 2429.913186290052. Mean Length: 500.0\n",
      " Epoch: 8. Mean Return: 3539.971009113541. Mean Length: 500.0\n",
      " Epoch: 9. Mean Return: 2219.2854110079575. Mean Length: 500.0\n",
      " Epoch: 10. Mean Return: 2680.3425812140495. Mean Length: 500.0\n",
      " Epoch: 11. Mean Return: 2837.3990295814847. Mean Length: 500.0\n",
      " Epoch: 12. Mean Return: 3242.9595406323324. Mean Length: 500.0\n",
      " Epoch: 13. Mean Return: 3387.900078174879. Mean Length: 500.0\n",
      " Epoch: 14. Mean Return: 3375.438265152907. Mean Length: 500.0\n",
      " Epoch: 15. Mean Return: 2802.6578508736375. Mean Length: 500.0\n",
      " Epoch: 16. Mean Return: 3333.407167675882. Mean Length: 500.0\n",
      " Epoch: 17. Mean Return: 3259.1519221815265. Mean Length: 500.0\n",
      " Epoch: 18. Mean Return: 3276.6944995670556. Mean Length: 500.0\n",
      " Epoch: 19. Mean Return: 3117.3776801707436. Mean Length: 500.0\n"
     ]
    },
    {
     "name": "stderr",
     "output_type": "stream",
     "text": [
      "100%|██████████| 20/20 [30:21<00:00, 91.09s/it]"
     ]
    },
    {
     "name": "stdout",
     "output_type": "stream",
     "text": [
      " Epoch: 20. Mean Return: 2669.005494558661. Mean Length: 500.0\n",
      "Current batch mean is 2219.2854110079575\n",
      "----------\n"
     ]
    },
    {
     "name": "stderr",
     "output_type": "stream",
     "text": [
      "\n"
     ]
    },
    {
     "data": {
      "application/javascript": [
       "$(document).ready(\n",
       "    function() {\n",
       "        function appendUniqueDiv(){\n",
       "            // append a div with our uuid so we can check that it's already\n",
       "            // been sent and avoid duplicates on page reload\n",
       "            var notifiedDiv = document.createElement(\"div\")\n",
       "            notifiedDiv.id = \"c19e721e-492c-4664-ac09-036f15a727cf\"\n",
       "            element.append(notifiedDiv)\n",
       "        }\n",
       "\n",
       "        // only send notifications if the pageload is complete; this will\n",
       "        // help stop extra notifications when a saved notebook is loaded,\n",
       "        // which during testing gives us state \"interactive\", not \"complete\"\n",
       "        if (document.readyState === 'complete') {\n",
       "            // check for the div that signifies that the notification\n",
       "            // was already sent\n",
       "            if (document.getElementById(\"c19e721e-492c-4664-ac09-036f15a727cf\") === null) {\n",
       "                var notificationPayload = {\"requireInteraction\": false, \"icon\": \"/static/base/images/favicon.ico\", \"body\": \"Cell execution has finished!\"};\n",
       "                if (Notification.permission !== 'denied') {\n",
       "                    if (Notification.permission !== 'granted') { \n",
       "                        Notification.requestPermission(function (permission) {\n",
       "                            if(!('permission' in Notification)) {\n",
       "                                Notification.permission = permission\n",
       "                            }\n",
       "                        })\n",
       "                    }\n",
       "                    if (Notification.permission === 'granted') {\n",
       "                    var notification = new Notification(\"Jupyter Notebook\", notificationPayload)\n",
       "                    appendUniqueDiv()\n",
       "                    notification.onclick = function () {\n",
       "                        window.focus();\n",
       "                        this.close();\n",
       "                        };\n",
       "                    } \n",
       "                }     \n",
       "            }\n",
       "        }\n",
       "    }\n",
       ")\n"
      ],
      "text/plain": [
       "<IPython.core.display.Javascript object>"
      ]
     },
     "metadata": {},
     "output_type": "display_data"
    }
   ],
   "source": [
    "%%notify\n",
    "print('Accounting for the gravity')\n",
    "iterations = 20\n",
    "obs_shape = 16\n",
    "tries = 20\n",
    "\n",
    "for i in tqdm.tqdm(range(tries)):\n",
    "  print(f'Run #{i}.')\n",
    "  min_ret = train(iterations, obs_shape)\n",
    "  min_ret = np.min(min_ret)\n",
    "  print(f'Current batch min is {min_ret}')\n",
    "  print('-'*10)\n",
    "  if min_ret > 5000 and reward_thresh > 0.004:\n",
    "    reward_thresh *= 0.5# - 3*(mean_ret - 1000)/40000 # linear from (1000, 0.8) to (5000, 0.5)\n",
    "  "
   ]
  },
  {
   "cell_type": "markdown",
   "metadata": {},
   "source": [
    "## Display results"
   ]
  },
  {
   "cell_type": "code",
   "execution_count": 96,
   "metadata": {
    "colab": {
     "base_uri": "https://localhost:8080/"
    },
    "id": "JjmClmacRP9V",
    "outputId": "f55fb214-6d9c-4c1c-b194-309699ff4a00"
   },
   "outputs": [
    {
     "name": "stdout",
     "output_type": "stream",
     "text": [
      "29302.82884942598\n"
     ]
    }
   ],
   "source": [
    "# %%notify\n",
    "env = TorqueDynamics(0.1, np.array([1, 0, 0, 0]), 16)\n",
    "observation = env.reset()\n",
    "episode_return = 0\n",
    "# Iterate over the steps of each epoch\n",
    "for t in range(steps_per_epoch*10):\n",
    "    if render:\n",
    "        env.render()\n",
    "\n",
    "    # Get the logits, action, and take one step in the environment\n",
    "    observation = observation.reshape(1, -1)\n",
    "    logits, action = sample_action(observation)\n",
    "    #action = [env.action_space.shape[0]//2]\n",
    "    #print(type(action[0].numpy()))\n",
    "    observation_new, reward, done, info = env.step(action[0].numpy())\n",
    "    episode_return += reward\n",
    "\n",
    "    # Update the observation\n",
    "    observation = observation_new\n",
    "print(episode_return)"
   ]
  },
  {
   "cell_type": "code",
   "execution_count": 97,
   "metadata": {
    "colab": {
     "base_uri": "https://localhost:8080/",
     "height": 617
    },
    "id": "MrSJapY0QMDX",
    "outputId": "d3c4987d-a442-4758-b30d-5a399f4dfe5c"
   },
   "outputs": [
    {
     "name": "stdout",
     "output_type": "stream",
     "text": [
      "means:\n",
      "roll=-1.1945949213278058\tpitch=0.5837072121848071\tyaw=0.49868659800742643\n",
      "std:\n",
      "roll=0.08024974252950584\tpitch=0.04315992110447269\tyaw=0.09492898021218397\n"
     ]
    },
    {
     "name": "stderr",
     "output_type": "stream",
     "text": [
      "C:\\Users\\Алексей\\AppData\\Local\\Temp\\ipykernel_4452\\3660080882.py:27: UserWarning: Matplotlib is currently using module://matplotlib_inline.backend_inline, which is a non-GUI backend, so cannot show the figure.\n",
      "  fig.show()\n"
     ]
    },
    {
     "data": {
      "image/png": "[encoded data removed]",
      "text/plain": [
       "<Figure size 1152x576 with 1 Axes>"
      ]
     },
     "metadata": {
      "needs_background": "light"
     },
     "output_type": "display_data"
    }
   ],
   "source": [
    "x = np.array(info['x'])\n",
    "t = np.array(info['t'])\n",
    "roll, pitch, yaw = quat2rpy_deg(x[:,0], x[:,1], x[:,2], x[:,3])\n",
    "size = roll.shape[0]//3\n",
    "print(f'means:\\nroll={np.mean(roll[-size:])}\\tpitch={np.mean(pitch[-size:])}\\tyaw={np.mean(yaw[-size:])}\\n\\\n",
    "std:\\nroll={np.std(roll[-size:])}\\tpitch={np.std(pitch[-size:])}\\tyaw={np.std(yaw[-size:])}')\n",
    "\n",
    "plot_euler_angles(t, roll, pitch, yaw, filename='angles2.pdf', inset=False)"
   ]
  },
  {
   "cell_type": "code",
   "execution_count": 98,
   "metadata": {},
   "outputs": [
    {
     "data": {
      "text/plain": [
       "[<matplotlib.lines.Line2D at 0x22b1d418e20>,\n",
       " <matplotlib.lines.Line2D at 0x22b1bce4a90>,\n",
       " <matplotlib.lines.Line2D at 0x22b1bce4b20>]"
      ]
     },
     "execution_count": 98,
     "metadata": {},
     "output_type": "execute_result"
    },
    {
     "data": {
      "image/png": "[encoded data removed]",
      "text/plain": [
       "<Figure size 432x288 with 1 Axes>"
      ]
     },
     "metadata": {
      "needs_background": "light"
     },
     "output_type": "display_data"
    }
   ],
   "source": [
    "plt.plot(x[:, 7:10])"
   ]
  },
  {
   "cell_type": "code",
   "execution_count": 99,
   "metadata": {},
   "outputs": [
    {
     "data": {
      "text/plain": [
       "[<matplotlib.lines.Line2D at 0x22b039fc820>,\n",
       " <matplotlib.lines.Line2D at 0x22b039fc9d0>,\n",
       " <matplotlib.lines.Line2D at 0x22b039fc490>]"
      ]
     },
     "execution_count": 99,
     "metadata": {},
     "output_type": "execute_result"
    },
    {
     "data": {
      "image/png": "[encoded data removed]",
      "text/plain": [
       "<Figure size 432x288 with 1 Axes>"
      ]
     },
     "metadata": {
      "needs_background": "light"
     },
     "output_type": "display_data"
    }
   ],
   "source": [
    "plt.plot(np.array(info['action'])[:])"
   ]
  },
  {
   "cell_type": "code",
   "execution_count": null,
   "metadata": {
    "id": "EsbZBb30IwPX"
   },
   "outputs": [],
   "source": [
    "start = np.array([np.cos(np.pi/2),0,0,np.sin(np.pi/2),0,0,0,0,0,0])"
   ]
  },
  {
   "cell_type": "code",
   "execution_count": null,
   "metadata": {
    "colab": {
     "base_uri": "https://localhost:8080/",
     "height": 585
    },
    "id": "pimvg-KpObHG",
    "outputId": "bf292db3-cf9c-4caa-fc44-09c5c11b6e7d"
   },
   "outputs": [],
   "source": [
    "roll, pitch, yaw = quat2rpy_deg(x[:,0], x[:,1], x[:,2], x[:,3])\n",
    "   \n",
    "fig1 = plt.figure(figsize=(16,8))\n",
    "ax1 = fig1.add_subplot(2,2,1)\n",
    "\n",
    "ax1.set_title(\"Euler Angles\")\n",
    "ax1.plot(t, roll, label = 'roll', color = 'red')\n",
    "ax1.plot(t, pitch, label = 'pitch', color = 'green')\n",
    "ax1.plot(t, yaw, label = 'yaw', color = 'blue')\n",
    "ax1.set_ylabel(r'angles, [deg]')\n",
    "ax1.set_xlabel(r't, [s]')\n",
    "ax1.grid(True)\n",
    "ax1.legend()\n",
    "\n",
    "ax2 = fig1.add_subplot(2,2,2)\n",
    "\n",
    "ax2.set_title(\"Angular Velocity\")\n",
    "ax2.plot(t, x[:,4], label = '$\\omega_x$', color = 'red')\n",
    "ax2.plot(t, x[:,5], label = '$\\omega_y$', color = 'green')\n",
    "ax2.plot(t, x[:,6], label = '$\\omega_z$', color = 'blue')\n",
    "ax2.set_ylabel(r'angular velocity, [rad/s]')\n",
    "ax2.set_xlabel(r't, [s]')\n",
    "ax2.grid(True)\n",
    "ax2.legend()\n",
    "\n",
    "ax2 = fig1.add_subplot(2,2,3)\n",
    "\n",
    "ax2.set_title(\"RW angular momentum\")\n",
    "ax2.plot(t, x[:,7], label = '$h_x$', color = 'red')\n",
    "ax2.plot(t, x[:,8], label = '$h_y$', color = 'green')\n",
    "ax2.plot(t, x[:,9], label = '$h_z$', color = 'blue')\n",
    "ax2.set_ylabel(r'h, [Nms]')\n",
    "ax2.set_xlabel(r't, [s]')\n",
    "ax2.grid(True)\n",
    "ax2.legend()\n",
    "\n",
    "plt.tight_layout()"
   ]
  },
  {
   "cell_type": "markdown",
   "metadata": {
    "id": "8KSETtLE9g9G"
   },
   "source": [
    "## Saving the weights"
   ]
  },
  {
   "cell_type": "code",
   "execution_count": 83,
   "metadata": {
    "colab": {
     "base_uri": "https://localhost:8080/",
     "height": 17
    },
    "id": "s8abmL43pFlS",
    "outputId": "e7292d93-511e-408f-bab2-2694560795e2"
   },
   "outputs": [],
   "source": [
    "actor_config = actor.get_config()\n",
    "actor_weights = actor.get_weights()\n",
    "critic_config = critic.get_config()\n",
    "critic_weights = critic.get_weights()\n",
    "import pickle\n",
    "name = f'configs_weights.pickle'\n",
    "with open(name, 'wb') as f:\n",
    "  pickle.dump((actor_config, actor_weights, critic_config, critic_weights), f)"
   ]
  },
  {
   "cell_type": "markdown",
   "metadata": {
    "id": "6DsvSYd59mek"
   },
   "source": [
    "## Importing the weights"
   ]
  },
  {
   "cell_type": "code",
   "execution_count": 7,
   "metadata": {
    "id": "-p3CM-9IM5MX"
   },
   "outputs": [],
   "source": [
    "import pickle\n",
    "# iterations = 1500\n",
    "# reward_thresh = 0.0043\n",
    "name = f'data/configs_weights.pickle'\n",
    "with open(name, 'rb') as f:\n",
    "  something = pickle.load(f)\n",
    "\n",
    "actor_config, actor_weights ,critic_config, critic_weights = something\n",
    "actor = keras.Model.from_config(actor_config)\n",
    "actor.set_weights(actor_weights)\n",
    "critic = keras.Model.from_config(critic_config)\n",
    "critic.set_weights(critic_weights)"
   ]
  },
  {
   "cell_type": "code",
   "execution_count": null,
   "metadata": {},
   "outputs": [],
   "source": []
  }
 ],
 "metadata": {
  "colab": {
   "collapsed_sections": [
    "RHRt4sMVHqPg",
    "XJZVUK_pHqPj"
   ],
   "name": "ppo_satellite_orientation_gravity_exp",
   "provenance": []
  },
  "kernelspec": {
   "display_name": "Python 3 (ipykernel)",
   "language": "python",
   "name": "python3"
  },
  "language_info": {
   "codemirror_mode": {
    "name": "ipython",
    "version": 3
   },
   "file_extension": ".py",
   "mimetype": "text/x-python",
   "name": "python",
   "nbconvert_exporter": "python",
   "pygments_lexer": "ipython3",
   "version": "3.8.10"
  }
 },
 "nbformat": 4,
 "nbformat_minor": 1
}
