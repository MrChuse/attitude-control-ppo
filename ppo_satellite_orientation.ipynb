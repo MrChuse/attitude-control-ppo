{
 "cells": [
  {
   "cell_type": "markdown",
   "metadata": {
    "id": "l9g-wDw7HqPa"
   },
   "source": [
    "# Proximal Policy Optimization\n"
   ]
  },
  {
   "cell_type": "markdown",
   "metadata": {
    "id": "ZxEogGtvHqPf"
   },
   "source": [
    "## Introduction\n",
    "\n",
    "This code example solves the CartPole-v0 environment using a Proximal Policy Optimization (PPO) agent.\n",
    "\n",
    "\n",
    "### Proximal Policy Optimization\n",
    "\n",
    "PPO is a policy gradient method and can be used for environments with either discrete or continuous action spaces.\n",
    "It trains a stochastic policy in an on-policy way. Also, it utilizes the actor critic method. The actor maps the\n",
    "observation to an action and the critic gives an expectation of the rewards of the agent for the observation given.\n",
    "Firstly, it collects a set of trajectories for each epoch by sampling from the latest version of the stochastic policy.\n",
    "Then, the rewards-to-go and the advantage estimates are computed in order to update the policy and fit the value function.\n",
    "The policy is updated via a stochastic gradient ascent optimizer, while the value function is fitted via some gradient descent algorithm.\n",
    "This procedure is applied for many epochs until the environment is solved.\n",
    "\n",
    "![Algorithm](https://i.imgur.com/rd5tda1.png)\n",
    "\n",
    "- [PPO Original Paper](https://arxiv.org/pdf/1707.06347.pdf)\n",
    "- [OpenAI Spinning Up docs - PPO](https://spinningup.openai.com/en/latest/algorithms/ppo.html)\n",
    "\n",
    "### Note\n",
    "\n",
    "This code example uses Keras and Tensorflow v2. It is based on the PPO Original Paper,\n",
    "the OpenAI's Spinning Up docs for PPO, and the OpenAI's Spinning Up implementation of PPO using Tensorflow v1.\n",
    "\n",
    "[OpenAI Spinning Up Github - PPO](https://github.com/openai/spinningup/blob/master/spinup/algos/tf1/ppo/ppo.py)"
   ]
  },
  {
   "cell_type": "markdown",
   "metadata": {
    "id": "RHRt4sMVHqPg"
   },
   "source": [
    "## Libraries\n",
    "\n",
    "For this example the following libraries are used:\n",
    "\n",
    "1. `numpy` for n-dimensional arrays\n",
    "2. `tensorflow` and `keras` for building the deep RL PPO agent\n",
    "3. `gym` for getting everything we need about the environment\n",
    "4. `scipy.signal` for calculating the discounted cumulative sums of vectors"
   ]
  },
  {
   "cell_type": "code",
   "execution_count": 2,
   "metadata": {
    "id": "y78rKHSSHqPh"
   },
   "outputs": [
    {
     "data": {
      "application/javascript": [
       "if (!(\"Notification\" in window)) {\n",
       "    alert(\"This browser does not support desktop notifications, so the %%notify magic will not work.\");\n",
       "} else if (Notification.permission !== 'granted' && Notification.permission !== 'denied') {\n",
       "    Notification.requestPermission(function (permission) {\n",
       "        if(!('permission' in Notification)) {\n",
       "            Notification.permission = permission;\n",
       "        }\n",
       "    })\n",
       "}\n"
      ],
      "text/plain": [
       "<IPython.core.display.Javascript object>"
      ]
     },
     "metadata": {},
     "output_type": "display_data"
    }
   ],
   "source": [
    "import numpy as np\n",
    "import tensorflow as tf\n",
    "from tensorflow import keras\n",
    "from tensorflow.keras import layers\n",
    "import gym\n",
    "import scipy.signal\n",
    "import time\n",
    "from scipy.integrate import solve_ivp\n",
    "import matplotlib.pyplot as plt\n",
    "%matplotlib inline\n",
    "%load_ext jupyternotify"
   ]
  },
  {
   "cell_type": "code",
   "execution_count": 13,
   "metadata": {
    "id": "xyKokzpKHqPj"
   },
   "outputs": [],
   "source": [
    "if sat:\n",
    "    del sat\n",
    "%run utils.ipynb\n",
    "%run torque_dynamics.ipynb"
   ]
  },
  {
   "cell_type": "markdown",
   "metadata": {
    "id": "eclr-wmlHqPk"
   },
   "source": [
    "## Hyperparameters"
   ]
  },
  {
   "cell_type": "code",
   "execution_count": 4,
   "metadata": {
    "id": "4L9RbWNAHqPl"
   },
   "outputs": [],
   "source": [
    "# Hyperparameters of the PPO algorithm\n",
    "steps_per_epoch = 500\n",
    "epochs = 1000\n",
    "gamma = 0.99\n",
    "clip_ratio = 0.2\n",
    "policy_learning_rate = 3e-4\n",
    "value_function_learning_rate = 1e-3\n",
    "train_policy_iterations = 80\n",
    "train_value_iterations = 80\n",
    "lam = 0.95\n",
    "target_kl = 0.01\n",
    "hidden_sizes = (400, 300)\n",
    "\n",
    "# True if you want to render the environment\n",
    "render = False"
   ]
  },
  {
   "cell_type": "markdown",
   "metadata": {
    "id": "HyghzEOgQJ3w"
   },
   "source": [
    "## Physics"
   ]
  },
  {
   "cell_type": "code",
   "execution_count": 5,
   "metadata": {
    "id": "grBwDNIHKmkA"
   },
   "outputs": [],
   "source": [
    "def gravity_gradient_torque(quat, inertia_tensor, mean_motion):\n",
    "    Ae3 = rotate_vec_with_quat(quat, np.array([0., 0., 1.]))\n",
    "\n",
    "    return 3. * mean_motion ** 2. * cross_product(Ae3, inertia_tensor.dot(Ae3))    \n",
    "\n",
    "\n",
    "def rhs(t, x, sat, action):\n",
    "\n",
    "    quat = x[:4] / np.linalg.norm(x[:4])\n",
    "    omega = x[4:7]\n",
    "    h = x[7:10]\n",
    "     \n",
    "    omega_rel = omega - rotate_vec_with_quat(quat, np.array([0., sat.mean_motion, 0.]))    \n",
    "        \n",
    "    trq_gg = gravity_gradient_torque(quat, sat.J, sat.mean_motion)\n",
    "\n",
    "    x_dot = np.zeros(16)\n",
    "    omega_dot_rigid = trq_gg + action - cross_product(omega, sat.J.dot(omega + h))\n",
    "    eta_dot_flex = sat.D.dot(x[13:]) + sat.K.dot(x[10:13])\n",
    "\n",
    "    x_dot[0] = -0.5 * quat[1:].dot(omega_rel)\n",
    "    x_dot[1:4] = 0.5 * (quat[0] * omega_rel + cross_product(quat[1:], omega_rel))\n",
    "    tmp = omega_dot_rigid + (sat.L_p.T).dot(eta_dot_flex)\n",
    "    x_dot[4:7] = sat.Aom.dot(sat.J_inv).dot(tmp)\n",
    "    x_dot[7:10] = - action\n",
    "    x_dot[10:13] = x[13:]\n",
    "    x_dot[13:] = - sat.Aeta.dot(eta_dot_flex + sat.L_p.dot(sat.J_inv).dot(omega_dot_rigid))\n",
    "        \n",
    "    return x_dot"
   ]
  },
  {
   "cell_type": "markdown",
   "metadata": {
    "id": "g4k0dL4KHqPm"
   },
   "source": [
    "## Initializations"
   ]
  },
  {
   "cell_type": "code",
   "execution_count": 7,
   "metadata": {
    "id": "K1iWcjWEHqPm"
   },
   "outputs": [],
   "source": [
    "# Initialize the environment and get the dimensionality of the\n",
    "# observation space and the number of possible actions\n",
    "env = TorqueDynamics(0.1, np.array([1, 0, 0, 0]), 16)\n",
    "observation_dimensions = env.observation_space.shape[0]\n",
    "num_actions = env.action_space.shape[0]\n",
    "\n",
    "# Initialize the buffer\n",
    "buffer = Buffer(observation_dimensions, steps_per_epoch)\n",
    "\n",
    "# Initialize the actor and the critic as keras models\n",
    "observation_input = keras.Input(shape=(observation_dimensions,), dtype=tf.float32)\n",
    "logits = mlp(observation_input, list(hidden_sizes) + [num_actions], tf.nn.relu, None)\n",
    "actor = keras.Model(inputs=observation_input, outputs=logits)\n",
    "value = tf.squeeze(\n",
    "    mlp(observation_input, list(hidden_sizes) + [1], tf.nn.relu, None), axis=1\n",
    ")\n",
    "critic = keras.Model(inputs=observation_input, outputs=value)\n",
    "\n",
    "# Initialize the policy and the value function optimizers\n",
    "policy_optimizer = keras.optimizers.Adam(learning_rate=policy_learning_rate)\n",
    "value_optimizer = keras.optimizers.Adam(learning_rate=value_function_learning_rate)\n",
    "\n"
   ]
  },
  {
   "cell_type": "markdown",
   "metadata": {
    "id": "TdMXapmNHqPn"
   },
   "source": [
    "## Train"
   ]
  },
  {
   "cell_type": "code",
   "execution_count": 20,
   "metadata": {},
   "outputs": [],
   "source": [
    "%run utils.ipynb\n",
    "%run torque_dynamics.ipynb"
   ]
  },
  {
   "cell_type": "code",
   "execution_count": 21,
   "metadata": {
    "id": "-E1Q3xHBamXF"
   },
   "outputs": [
    {
     "name": "stdout",
     "output_type": "stream",
     "text": [
      "Accounting for the gravity\n",
      "Run #0.\n",
      "starting training with 20 epochs\n",
      " Epoch: 1. Mean Return: 147.35382592001514. Mean Length: 500.0\n"
     ]
    },
    {
     "ename": "KeyboardInterrupt",
     "evalue": "",
     "output_type": "error",
     "traceback": [
      "\u001b[1;31m---------------------------------------------------------------------------\u001b[0m",
      "\u001b[1;31mKeyboardInterrupt\u001b[0m                         Traceback (most recent call last)",
      "Input \u001b[1;32mIn [21]\u001b[0m, in \u001b[0;36m<module>\u001b[1;34m\u001b[0m\n\u001b[0;32m      6\u001b[0m \u001b[38;5;28;01mfor\u001b[39;00m i \u001b[38;5;129;01min\u001b[39;00m \u001b[38;5;28mrange\u001b[39m(tries):\n\u001b[0;32m      7\u001b[0m   \u001b[38;5;28mprint\u001b[39m(\u001b[38;5;124mf\u001b[39m\u001b[38;5;124m'\u001b[39m\u001b[38;5;124mRun #\u001b[39m\u001b[38;5;132;01m{\u001b[39;00mi\u001b[38;5;132;01m}\u001b[39;00m\u001b[38;5;124m.\u001b[39m\u001b[38;5;124m'\u001b[39m)\n\u001b[1;32m----> 8\u001b[0m   mean_ret \u001b[38;5;241m=\u001b[39m \u001b[43mtrain\u001b[49m\u001b[43m(\u001b[49m\u001b[43miterations\u001b[49m\u001b[43m,\u001b[49m\u001b[43m \u001b[49m\u001b[43mobs_shape\u001b[49m\u001b[43m)\u001b[49m\n\u001b[0;32m      9\u001b[0m   mean_ret \u001b[38;5;241m=\u001b[39m np\u001b[38;5;241m.\u001b[39mmin(mean_ret)\n\u001b[0;32m     10\u001b[0m   \u001b[38;5;28mprint\u001b[39m(\u001b[38;5;124mf\u001b[39m\u001b[38;5;124m'\u001b[39m\u001b[38;5;124mCurrent batch mean is \u001b[39m\u001b[38;5;132;01m{\u001b[39;00mmean_ret\u001b[38;5;132;01m}\u001b[39;00m\u001b[38;5;124m'\u001b[39m)\n",
      "File \u001b[1;32m~\\AppData\\Local\\Temp\\ipykernel_6996\\2666447984.py:26\u001b[0m, in \u001b[0;36mtrain\u001b[1;34m(epochs, obs_shape, start)\u001b[0m\n\u001b[0;32m     24\u001b[0m logits, action \u001b[38;5;241m=\u001b[39m sample_action(observation)\n\u001b[0;32m     25\u001b[0m \u001b[38;5;66;03m#print(type(action[0].numpy()))\u001b[39;00m\n\u001b[1;32m---> 26\u001b[0m observation_new, reward, done, info \u001b[38;5;241m=\u001b[39m \u001b[43menv\u001b[49m\u001b[38;5;241;43m.\u001b[39;49m\u001b[43mstep\u001b[49m\u001b[43m(\u001b[49m\u001b[43maction\u001b[49m\u001b[43m[\u001b[49m\u001b[38;5;241;43m0\u001b[39;49m\u001b[43m]\u001b[49m\u001b[38;5;241;43m.\u001b[39;49m\u001b[43mnumpy\u001b[49m\u001b[43m(\u001b[49m\u001b[43m)\u001b[49m\u001b[43m)\u001b[49m\n\u001b[0;32m     27\u001b[0m episode_return \u001b[38;5;241m+\u001b[39m\u001b[38;5;241m=\u001b[39m reward\n\u001b[0;32m     28\u001b[0m episode_length \u001b[38;5;241m+\u001b[39m\u001b[38;5;241m=\u001b[39m \u001b[38;5;241m1\u001b[39m\n",
      "File \u001b[1;32m~\\AppData\\Local\\Temp\\ipykernel_6996\\3568083859.py:85\u001b[0m, in \u001b[0;36mTorqueDynamics.step\u001b[1;34m(self, action)\u001b[0m\n\u001b[0;32m     81\u001b[0m     action \u001b[38;5;241m=\u001b[39m \u001b[38;5;28mself\u001b[39m\u001b[38;5;241m.\u001b[39maction_space[action]\u001b[38;5;241m.\u001b[39mcopy()\n\u001b[0;32m     83\u001b[0m action \u001b[38;5;241m*\u001b[39m\u001b[38;5;241m=\u001b[39m \u001b[38;5;28mself\u001b[39m\u001b[38;5;241m.\u001b[39mmultiplier\n\u001b[1;32m---> 85\u001b[0m sol \u001b[38;5;241m=\u001b[39m \u001b[43msolve_ivp\u001b[49m\u001b[43m(\u001b[49m\u001b[38;5;28;43;01mlambda\u001b[39;49;00m\u001b[43m \u001b[49m\u001b[43mt\u001b[49m\u001b[43m,\u001b[49m\u001b[43m \u001b[49m\u001b[43mx\u001b[49m\u001b[43m:\u001b[49m\u001b[43m \u001b[49m\u001b[43mrhs\u001b[49m\u001b[43m(\u001b[49m\u001b[43mt\u001b[49m\u001b[43m,\u001b[49m\u001b[43m \u001b[49m\u001b[43mx\u001b[49m\u001b[43m,\u001b[49m\u001b[43m \u001b[49m\u001b[43msat\u001b[49m\u001b[43m,\u001b[49m\u001b[43m \u001b[49m\u001b[43maction\u001b[49m\u001b[43m)\u001b[49m\u001b[43m,\u001b[49m\u001b[43m \u001b[49m\u001b[43m(\u001b[49m\u001b[43mt0\u001b[49m\u001b[43m,\u001b[49m\u001b[43mtf\u001b[49m\u001b[43m)\u001b[49m\u001b[43m,\u001b[49m\u001b[43m \u001b[49m\u001b[43mx_0\u001b[49m\u001b[43m)\u001b[49m\u001b[38;5;66;03m#, t_eval=t_eval)\u001b[39;00m\n\u001b[0;32m     86\u001b[0m x \u001b[38;5;241m=\u001b[39m sol\u001b[38;5;241m.\u001b[39my\u001b[38;5;241m.\u001b[39mT\n\u001b[0;32m     87\u001b[0m t \u001b[38;5;241m=\u001b[39m sol\u001b[38;5;241m.\u001b[39mt[\u001b[38;5;241m1\u001b[39m:]\n",
      "File \u001b[1;32md:\\git projects\\attitude-control-ppo\\venv\\lib\\site-packages\\scipy\\integrate\\_ivp\\ivp.py:576\u001b[0m, in \u001b[0;36msolve_ivp\u001b[1;34m(fun, t_span, y0, method, t_eval, dense_output, events, vectorized, args, **options)\u001b[0m\n\u001b[0;32m    574\u001b[0m status \u001b[38;5;241m=\u001b[39m \u001b[38;5;28;01mNone\u001b[39;00m\n\u001b[0;32m    575\u001b[0m \u001b[38;5;28;01mwhile\u001b[39;00m status \u001b[38;5;129;01mis\u001b[39;00m \u001b[38;5;28;01mNone\u001b[39;00m:\n\u001b[1;32m--> 576\u001b[0m     message \u001b[38;5;241m=\u001b[39m \u001b[43msolver\u001b[49m\u001b[38;5;241;43m.\u001b[39;49m\u001b[43mstep\u001b[49m\u001b[43m(\u001b[49m\u001b[43m)\u001b[49m\n\u001b[0;32m    578\u001b[0m     \u001b[38;5;28;01mif\u001b[39;00m solver\u001b[38;5;241m.\u001b[39mstatus \u001b[38;5;241m==\u001b[39m \u001b[38;5;124m'\u001b[39m\u001b[38;5;124mfinished\u001b[39m\u001b[38;5;124m'\u001b[39m:\n\u001b[0;32m    579\u001b[0m         status \u001b[38;5;241m=\u001b[39m \u001b[38;5;241m0\u001b[39m\n",
      "File \u001b[1;32md:\\git projects\\attitude-control-ppo\\venv\\lib\\site-packages\\scipy\\integrate\\_ivp\\base.py:181\u001b[0m, in \u001b[0;36mOdeSolver.step\u001b[1;34m(self)\u001b[0m\n\u001b[0;32m    179\u001b[0m \u001b[38;5;28;01melse\u001b[39;00m:\n\u001b[0;32m    180\u001b[0m     t \u001b[38;5;241m=\u001b[39m \u001b[38;5;28mself\u001b[39m\u001b[38;5;241m.\u001b[39mt\n\u001b[1;32m--> 181\u001b[0m     success, message \u001b[38;5;241m=\u001b[39m \u001b[38;5;28;43mself\u001b[39;49m\u001b[38;5;241;43m.\u001b[39;49m\u001b[43m_step_impl\u001b[49m\u001b[43m(\u001b[49m\u001b[43m)\u001b[49m\n\u001b[0;32m    183\u001b[0m     \u001b[38;5;28;01mif\u001b[39;00m \u001b[38;5;129;01mnot\u001b[39;00m success:\n\u001b[0;32m    184\u001b[0m         \u001b[38;5;28mself\u001b[39m\u001b[38;5;241m.\u001b[39mstatus \u001b[38;5;241m=\u001b[39m \u001b[38;5;124m'\u001b[39m\u001b[38;5;124mfailed\u001b[39m\u001b[38;5;124m'\u001b[39m\n",
      "File \u001b[1;32md:\\git projects\\attitude-control-ppo\\venv\\lib\\site-packages\\scipy\\integrate\\_ivp\\rk.py:144\u001b[0m, in \u001b[0;36mRungeKutta._step_impl\u001b[1;34m(self)\u001b[0m\n\u001b[0;32m    141\u001b[0m h \u001b[38;5;241m=\u001b[39m t_new \u001b[38;5;241m-\u001b[39m t\n\u001b[0;32m    142\u001b[0m h_abs \u001b[38;5;241m=\u001b[39m np\u001b[38;5;241m.\u001b[39mabs(h)\n\u001b[1;32m--> 144\u001b[0m y_new, f_new \u001b[38;5;241m=\u001b[39m \u001b[43mrk_step\u001b[49m\u001b[43m(\u001b[49m\u001b[38;5;28;43mself\u001b[39;49m\u001b[38;5;241;43m.\u001b[39;49m\u001b[43mfun\u001b[49m\u001b[43m,\u001b[49m\u001b[43m \u001b[49m\u001b[43mt\u001b[49m\u001b[43m,\u001b[49m\u001b[43m \u001b[49m\u001b[43my\u001b[49m\u001b[43m,\u001b[49m\u001b[43m \u001b[49m\u001b[38;5;28;43mself\u001b[39;49m\u001b[38;5;241;43m.\u001b[39;49m\u001b[43mf\u001b[49m\u001b[43m,\u001b[49m\u001b[43m \u001b[49m\u001b[43mh\u001b[49m\u001b[43m,\u001b[49m\u001b[43m \u001b[49m\u001b[38;5;28;43mself\u001b[39;49m\u001b[38;5;241;43m.\u001b[39;49m\u001b[43mA\u001b[49m\u001b[43m,\u001b[49m\n\u001b[0;32m    145\u001b[0m \u001b[43m                       \u001b[49m\u001b[38;5;28;43mself\u001b[39;49m\u001b[38;5;241;43m.\u001b[39;49m\u001b[43mB\u001b[49m\u001b[43m,\u001b[49m\u001b[43m \u001b[49m\u001b[38;5;28;43mself\u001b[39;49m\u001b[38;5;241;43m.\u001b[39;49m\u001b[43mC\u001b[49m\u001b[43m,\u001b[49m\u001b[43m \u001b[49m\u001b[38;5;28;43mself\u001b[39;49m\u001b[38;5;241;43m.\u001b[39;49m\u001b[43mK\u001b[49m\u001b[43m)\u001b[49m\n\u001b[0;32m    146\u001b[0m scale \u001b[38;5;241m=\u001b[39m atol \u001b[38;5;241m+\u001b[39m np\u001b[38;5;241m.\u001b[39mmaximum(np\u001b[38;5;241m.\u001b[39mabs(y), np\u001b[38;5;241m.\u001b[39mabs(y_new)) \u001b[38;5;241m*\u001b[39m rtol\n\u001b[0;32m    147\u001b[0m error_norm \u001b[38;5;241m=\u001b[39m \u001b[38;5;28mself\u001b[39m\u001b[38;5;241m.\u001b[39m_estimate_error_norm(\u001b[38;5;28mself\u001b[39m\u001b[38;5;241m.\u001b[39mK, h, scale)\n",
      "File \u001b[1;32md:\\git projects\\attitude-control-ppo\\venv\\lib\\site-packages\\scipy\\integrate\\_ivp\\rk.py:64\u001b[0m, in \u001b[0;36mrk_step\u001b[1;34m(fun, t, y, f, h, A, B, C, K)\u001b[0m\n\u001b[0;32m     62\u001b[0m \u001b[38;5;28;01mfor\u001b[39;00m s, (a, c) \u001b[38;5;129;01min\u001b[39;00m \u001b[38;5;28menumerate\u001b[39m(\u001b[38;5;28mzip\u001b[39m(A[\u001b[38;5;241m1\u001b[39m:], C[\u001b[38;5;241m1\u001b[39m:]), start\u001b[38;5;241m=\u001b[39m\u001b[38;5;241m1\u001b[39m):\n\u001b[0;32m     63\u001b[0m     dy \u001b[38;5;241m=\u001b[39m np\u001b[38;5;241m.\u001b[39mdot(K[:s]\u001b[38;5;241m.\u001b[39mT, a[:s]) \u001b[38;5;241m*\u001b[39m h\n\u001b[1;32m---> 64\u001b[0m     K[s] \u001b[38;5;241m=\u001b[39m \u001b[43mfun\u001b[49m\u001b[43m(\u001b[49m\u001b[43mt\u001b[49m\u001b[43m \u001b[49m\u001b[38;5;241;43m+\u001b[39;49m\u001b[43m \u001b[49m\u001b[43mc\u001b[49m\u001b[43m \u001b[49m\u001b[38;5;241;43m*\u001b[39;49m\u001b[43m \u001b[49m\u001b[43mh\u001b[49m\u001b[43m,\u001b[49m\u001b[43m \u001b[49m\u001b[43my\u001b[49m\u001b[43m \u001b[49m\u001b[38;5;241;43m+\u001b[39;49m\u001b[43m \u001b[49m\u001b[43mdy\u001b[49m\u001b[43m)\u001b[49m\n\u001b[0;32m     66\u001b[0m y_new \u001b[38;5;241m=\u001b[39m y \u001b[38;5;241m+\u001b[39m h \u001b[38;5;241m*\u001b[39m np\u001b[38;5;241m.\u001b[39mdot(K[:\u001b[38;5;241m-\u001b[39m\u001b[38;5;241m1\u001b[39m]\u001b[38;5;241m.\u001b[39mT, B)\n\u001b[0;32m     67\u001b[0m f_new \u001b[38;5;241m=\u001b[39m fun(t \u001b[38;5;241m+\u001b[39m h, y_new)\n",
      "File \u001b[1;32md:\\git projects\\attitude-control-ppo\\venv\\lib\\site-packages\\scipy\\integrate\\_ivp\\base.py:138\u001b[0m, in \u001b[0;36mOdeSolver.__init__.<locals>.fun\u001b[1;34m(t, y)\u001b[0m\n\u001b[0;32m    136\u001b[0m \u001b[38;5;28;01mdef\u001b[39;00m \u001b[38;5;21mfun\u001b[39m(t, y):\n\u001b[0;32m    137\u001b[0m     \u001b[38;5;28mself\u001b[39m\u001b[38;5;241m.\u001b[39mnfev \u001b[38;5;241m+\u001b[39m\u001b[38;5;241m=\u001b[39m \u001b[38;5;241m1\u001b[39m\n\u001b[1;32m--> 138\u001b[0m     \u001b[38;5;28;01mreturn\u001b[39;00m \u001b[38;5;28;43mself\u001b[39;49m\u001b[38;5;241;43m.\u001b[39;49m\u001b[43mfun_single\u001b[49m\u001b[43m(\u001b[49m\u001b[43mt\u001b[49m\u001b[43m,\u001b[49m\u001b[43m \u001b[49m\u001b[43my\u001b[49m\u001b[43m)\u001b[49m\n",
      "File \u001b[1;32md:\\git projects\\attitude-control-ppo\\venv\\lib\\site-packages\\scipy\\integrate\\_ivp\\base.py:20\u001b[0m, in \u001b[0;36mcheck_arguments.<locals>.fun_wrapped\u001b[1;34m(t, y)\u001b[0m\n\u001b[0;32m     19\u001b[0m \u001b[38;5;28;01mdef\u001b[39;00m \u001b[38;5;21mfun_wrapped\u001b[39m(t, y):\n\u001b[1;32m---> 20\u001b[0m     \u001b[38;5;28;01mreturn\u001b[39;00m np\u001b[38;5;241m.\u001b[39masarray(\u001b[43mfun\u001b[49m\u001b[43m(\u001b[49m\u001b[43mt\u001b[49m\u001b[43m,\u001b[49m\u001b[43m \u001b[49m\u001b[43my\u001b[49m\u001b[43m)\u001b[49m, dtype\u001b[38;5;241m=\u001b[39mdtype)\n",
      "File \u001b[1;32m~\\AppData\\Local\\Temp\\ipykernel_6996\\3568083859.py:85\u001b[0m, in \u001b[0;36mTorqueDynamics.step.<locals>.<lambda>\u001b[1;34m(t, x)\u001b[0m\n\u001b[0;32m     81\u001b[0m     action \u001b[38;5;241m=\u001b[39m \u001b[38;5;28mself\u001b[39m\u001b[38;5;241m.\u001b[39maction_space[action]\u001b[38;5;241m.\u001b[39mcopy()\n\u001b[0;32m     83\u001b[0m action \u001b[38;5;241m*\u001b[39m\u001b[38;5;241m=\u001b[39m \u001b[38;5;28mself\u001b[39m\u001b[38;5;241m.\u001b[39mmultiplier\n\u001b[1;32m---> 85\u001b[0m sol \u001b[38;5;241m=\u001b[39m solve_ivp(\u001b[38;5;28;01mlambda\u001b[39;00m t, x: \u001b[43mrhs\u001b[49m\u001b[43m(\u001b[49m\u001b[43mt\u001b[49m\u001b[43m,\u001b[49m\u001b[43m \u001b[49m\u001b[43mx\u001b[49m\u001b[43m,\u001b[49m\u001b[43m \u001b[49m\u001b[43msat\u001b[49m\u001b[43m,\u001b[49m\u001b[43m \u001b[49m\u001b[43maction\u001b[49m\u001b[43m)\u001b[49m, (t0,tf), x_0)\u001b[38;5;66;03m#, t_eval=t_eval)\u001b[39;00m\n\u001b[0;32m     86\u001b[0m x \u001b[38;5;241m=\u001b[39m sol\u001b[38;5;241m.\u001b[39my\u001b[38;5;241m.\u001b[39mT\n\u001b[0;32m     87\u001b[0m t \u001b[38;5;241m=\u001b[39m sol\u001b[38;5;241m.\u001b[39mt[\u001b[38;5;241m1\u001b[39m:]\n",
      "Input \u001b[1;32mIn [5]\u001b[0m, in \u001b[0;36mrhs\u001b[1;34m(t, x, sat, action)\u001b[0m\n\u001b[0;32m     11\u001b[0m h \u001b[38;5;241m=\u001b[39m x[\u001b[38;5;241m7\u001b[39m:\u001b[38;5;241m10\u001b[39m]\n\u001b[0;32m     13\u001b[0m omega_rel \u001b[38;5;241m=\u001b[39m omega \u001b[38;5;241m-\u001b[39m rotate_vec_with_quat(quat, np\u001b[38;5;241m.\u001b[39marray([\u001b[38;5;241m0.\u001b[39m, sat\u001b[38;5;241m.\u001b[39mmean_motion, \u001b[38;5;241m0.\u001b[39m]))    \n\u001b[1;32m---> 15\u001b[0m trq_gg \u001b[38;5;241m=\u001b[39m \u001b[43mgravity_gradient_torque\u001b[49m\u001b[43m(\u001b[49m\u001b[43mquat\u001b[49m\u001b[43m,\u001b[49m\u001b[43m \u001b[49m\u001b[43msat\u001b[49m\u001b[38;5;241;43m.\u001b[39;49m\u001b[43mJ\u001b[49m\u001b[43m,\u001b[49m\u001b[43m \u001b[49m\u001b[43msat\u001b[49m\u001b[38;5;241;43m.\u001b[39;49m\u001b[43mmean_motion\u001b[49m\u001b[43m)\u001b[49m\n\u001b[0;32m     17\u001b[0m x_dot \u001b[38;5;241m=\u001b[39m np\u001b[38;5;241m.\u001b[39mzeros(\u001b[38;5;241m16\u001b[39m)\n\u001b[0;32m     18\u001b[0m omega_dot_rigid \u001b[38;5;241m=\u001b[39m trq_gg \u001b[38;5;241m+\u001b[39m action \u001b[38;5;241m-\u001b[39m cross_product(omega, sat\u001b[38;5;241m.\u001b[39mJ\u001b[38;5;241m.\u001b[39mdot(omega \u001b[38;5;241m+\u001b[39m h))\n",
      "Input \u001b[1;32mIn [5]\u001b[0m, in \u001b[0;36mgravity_gradient_torque\u001b[1;34m(quat, inertia_tensor, mean_motion)\u001b[0m\n\u001b[0;32m      1\u001b[0m \u001b[38;5;28;01mdef\u001b[39;00m \u001b[38;5;21mgravity_gradient_torque\u001b[39m(quat, inertia_tensor, mean_motion):\n\u001b[1;32m----> 2\u001b[0m     Ae3 \u001b[38;5;241m=\u001b[39m \u001b[43mrotate_vec_with_quat\u001b[49m\u001b[43m(\u001b[49m\u001b[43mquat\u001b[49m\u001b[43m,\u001b[49m\u001b[43m \u001b[49m\u001b[43mnp\u001b[49m\u001b[38;5;241;43m.\u001b[39;49m\u001b[43marray\u001b[49m\u001b[43m(\u001b[49m\u001b[43m[\u001b[49m\u001b[38;5;241;43m0.\u001b[39;49m\u001b[43m,\u001b[49m\u001b[43m \u001b[49m\u001b[38;5;241;43m0.\u001b[39;49m\u001b[43m,\u001b[49m\u001b[43m \u001b[49m\u001b[38;5;241;43m1.\u001b[39;49m\u001b[43m]\u001b[49m\u001b[43m)\u001b[49m\u001b[43m)\u001b[49m\n\u001b[0;32m      4\u001b[0m     \u001b[38;5;28;01mreturn\u001b[39;00m \u001b[38;5;241m3.\u001b[39m \u001b[38;5;241m*\u001b[39m mean_motion \u001b[38;5;241m*\u001b[39m\u001b[38;5;241m*\u001b[39m \u001b[38;5;241m2.\u001b[39m \u001b[38;5;241m*\u001b[39m cross_product(Ae3, inertia_tensor\u001b[38;5;241m.\u001b[39mdot(Ae3))\n",
      "File \u001b[1;32m~\\AppData\\Local\\Temp\\ipykernel_6996\\1531653120.py:51\u001b[0m, in \u001b[0;36mrotate_vec_with_quat\u001b[1;34m(q, vec)\u001b[0m\n\u001b[0;32m     48\u001b[0m check_dimensions(q, \u001b[38;5;28;01mTrue\u001b[39;00m)\n\u001b[0;32m     49\u001b[0m check_dimensions(vec, \u001b[38;5;28;01mFalse\u001b[39;00m)\n\u001b[1;32m---> 51\u001b[0m q \u001b[38;5;241m=\u001b[39m \u001b[43mquat_conjugate\u001b[49m\u001b[43m(\u001b[49m\u001b[43mq\u001b[49m\u001b[43m)\u001b[49m\n\u001b[0;32m     53\u001b[0m qxvec \u001b[38;5;241m=\u001b[39m cross_product(q[\u001b[38;5;241m1\u001b[39m:], vec)\n\u001b[0;32m     55\u001b[0m \u001b[38;5;28;01mreturn\u001b[39;00m q[\u001b[38;5;241m1\u001b[39m:]\u001b[38;5;241m.\u001b[39mdot(vec) \u001b[38;5;241m*\u001b[39m q[\u001b[38;5;241m1\u001b[39m:] \u001b[38;5;241m+\u001b[39m q[\u001b[38;5;241m0\u001b[39m]\u001b[38;5;241m*\u001b[39m\u001b[38;5;241m*\u001b[39m\u001b[38;5;241m2.\u001b[39m \u001b[38;5;241m*\u001b[39m vec \u001b[38;5;241m+\u001b[39m \u001b[38;5;241m2.\u001b[39m \u001b[38;5;241m*\u001b[39m q[\u001b[38;5;241m0\u001b[39m] \u001b[38;5;241m*\u001b[39m qxvec \u001b[38;5;241m+\u001b[39m cross_product(q[\u001b[38;5;241m1\u001b[39m:], qxvec)\n",
      "File \u001b[1;32m~\\AppData\\Local\\Temp\\ipykernel_6996\\1531653120.py:75\u001b[0m, in \u001b[0;36mquat_conjugate\u001b[1;34m(q)\u001b[0m\n\u001b[0;32m     73\u001b[0m \u001b[38;5;28;01mdef\u001b[39;00m \u001b[38;5;21mquat_conjugate\u001b[39m(q):\n\u001b[1;32m---> 75\u001b[0m     q_new \u001b[38;5;241m=\u001b[39m \u001b[43mnp\u001b[49m\u001b[38;5;241;43m.\u001b[39;49m\u001b[43mcopy\u001b[49m\u001b[43m(\u001b[49m\u001b[43mq\u001b[49m\u001b[43m)\u001b[49m\n\u001b[0;32m     76\u001b[0m     q_new[\u001b[38;5;241m1\u001b[39m:] \u001b[38;5;241m=\u001b[39m q_new[\u001b[38;5;241m1\u001b[39m:] \u001b[38;5;241m*\u001b[39m \u001b[38;5;241m-\u001b[39m\u001b[38;5;241m1.\u001b[39m\n\u001b[0;32m     78\u001b[0m     \u001b[38;5;28;01mreturn\u001b[39;00m q_new\n",
      "File \u001b[1;32m<__array_function__ internals>:180\u001b[0m, in \u001b[0;36mcopy\u001b[1;34m(*args, **kwargs)\u001b[0m\n",
      "File \u001b[1;32md:\\git projects\\attitude-control-ppo\\venv\\lib\\site-packages\\numpy\\lib\\function_base.py:935\u001b[0m, in \u001b[0;36mcopy\u001b[1;34m(a, order, subok)\u001b[0m\n\u001b[0;32m    846\u001b[0m \u001b[38;5;129m@array_function_dispatch\u001b[39m(_copy_dispatcher)\n\u001b[0;32m    847\u001b[0m \u001b[38;5;28;01mdef\u001b[39;00m \u001b[38;5;21mcopy\u001b[39m(a, order\u001b[38;5;241m=\u001b[39m\u001b[38;5;124m'\u001b[39m\u001b[38;5;124mK\u001b[39m\u001b[38;5;124m'\u001b[39m, subok\u001b[38;5;241m=\u001b[39m\u001b[38;5;28;01mFalse\u001b[39;00m):\n\u001b[0;32m    848\u001b[0m     \u001b[38;5;124;03m\"\"\"\u001b[39;00m\n\u001b[0;32m    849\u001b[0m \u001b[38;5;124;03m    Return an array copy of the given object.\u001b[39;00m\n\u001b[0;32m    850\u001b[0m \n\u001b[1;32m   (...)\u001b[0m\n\u001b[0;32m    933\u001b[0m \n\u001b[0;32m    934\u001b[0m \u001b[38;5;124;03m    \"\"\"\u001b[39;00m\n\u001b[1;32m--> 935\u001b[0m     \u001b[38;5;28;01mreturn\u001b[39;00m \u001b[43marray\u001b[49m\u001b[43m(\u001b[49m\u001b[43ma\u001b[49m\u001b[43m,\u001b[49m\u001b[43m \u001b[49m\u001b[43morder\u001b[49m\u001b[38;5;241;43m=\u001b[39;49m\u001b[43morder\u001b[49m\u001b[43m,\u001b[49m\u001b[43m \u001b[49m\u001b[43msubok\u001b[49m\u001b[38;5;241;43m=\u001b[39;49m\u001b[43msubok\u001b[49m\u001b[43m,\u001b[49m\u001b[43m \u001b[49m\u001b[43mcopy\u001b[49m\u001b[38;5;241;43m=\u001b[39;49m\u001b[38;5;28;43;01mTrue\u001b[39;49;00m\u001b[43m)\u001b[49m\n",
      "\u001b[1;31mKeyboardInterrupt\u001b[0m: "
     ]
    },
    {
     "data": {
      "application/javascript": [
       "$(document).ready(\n",
       "    function() {\n",
       "        function appendUniqueDiv(){\n",
       "            // append a div with our uuid so we can check that it's already\n",
       "            // been sent and avoid duplicates on page reload\n",
       "            var notifiedDiv = document.createElement(\"div\")\n",
       "            notifiedDiv.id = \"57a74b4e-24ed-4305-b6d3-44ab1f31c724\"\n",
       "            element.append(notifiedDiv)\n",
       "        }\n",
       "\n",
       "        // only send notifications if the pageload is complete; this will\n",
       "        // help stop extra notifications when a saved notebook is loaded,\n",
       "        // which during testing gives us state \"interactive\", not \"complete\"\n",
       "        if (document.readyState === 'complete') {\n",
       "            // check for the div that signifies that the notification\n",
       "            // was already sent\n",
       "            if (document.getElementById(\"57a74b4e-24ed-4305-b6d3-44ab1f31c724\") === null) {\n",
       "                var notificationPayload = {\"requireInteraction\": false, \"icon\": \"/static/base/images/favicon.ico\", \"body\": \"Cell execution has finished!\"};\n",
       "                if (Notification.permission !== 'denied') {\n",
       "                    if (Notification.permission !== 'granted') { \n",
       "                        Notification.requestPermission(function (permission) {\n",
       "                            if(!('permission' in Notification)) {\n",
       "                                Notification.permission = permission\n",
       "                            }\n",
       "                        })\n",
       "                    }\n",
       "                    if (Notification.permission === 'granted') {\n",
       "                    var notification = new Notification(\"Jupyter Notebook\", notificationPayload)\n",
       "                    appendUniqueDiv()\n",
       "                    notification.onclick = function () {\n",
       "                        window.focus();\n",
       "                        this.close();\n",
       "                        };\n",
       "                    } \n",
       "                }     \n",
       "            }\n",
       "        }\n",
       "    }\n",
       ")\n"
      ],
      "text/plain": [
       "<IPython.core.display.Javascript object>"
      ]
     },
     "metadata": {},
     "output_type": "display_data"
    }
   ],
   "source": [
    "%%notify\n",
    "print('Accounting for the gravity')\n",
    "iterations = 20\n",
    "obs_shape = 16\n",
    "tries = 100\n",
    "\n",
    "for i in range(tries):\n",
    "  print(f'Run #{i}.')\n",
    "  mean_ret = train(iterations, obs_shape)\n",
    "  mean_ret = np.min(mean_ret)\n",
    "  print(f'Current batch mean is {mean_ret}')\n",
    "  print('-'*10)\n",
    "  if mean_ret > 5000 and reward_thresh > 0.004:\n",
    "    reward_thresh *= 0.5# - 3*(mean_ret - 1000)/40000 # linear from (1000, 0.8) to (5000, 0.5)\n",
    "  "
   ]
  },
  {
   "cell_type": "markdown",
   "metadata": {},
   "source": [
    "## Display results"
   ]
  },
  {
   "cell_type": "code",
   "execution_count": 15,
   "metadata": {
    "colab": {
     "base_uri": "https://localhost:8080/"
    },
    "id": "JjmClmacRP9V",
    "outputId": "f55fb214-6d9c-4c1c-b194-309699ff4a00"
   },
   "outputs": [
    {
     "name": "stdout",
     "output_type": "stream",
     "text": [
      "5445.6847872349035\n"
     ]
    }
   ],
   "source": [
    "# %%notify\n",
    "observation = env.reset()\n",
    "episode_return = 0\n",
    "# Iterate over the steps of each epoch\n",
    "for t in range(steps_per_epoch*2):\n",
    "    if render:\n",
    "        env.render()\n",
    "\n",
    "    # Get the logits, action, and take one step in the environment\n",
    "    observation = observation.reshape(1, -1)\n",
    "    logits, action = sample_action(observation)\n",
    "    #print(type(action[0].numpy()))\n",
    "    observation_new, reward, done, info = env.step(action[0].numpy())\n",
    "    episode_return += reward\n",
    "\n",
    "    # Update the observation\n",
    "    observation = observation_new\n",
    "print(episode_return)"
   ]
  },
  {
   "cell_type": "code",
   "execution_count": 19,
   "metadata": {
    "colab": {
     "base_uri": "https://localhost:8080/",
     "height": 617
    },
    "id": "MrSJapY0QMDX",
    "outputId": "d3c4987d-a442-4758-b30d-5a399f4dfe5c"
   },
   "outputs": [
    {
     "name": "stdout",
     "output_type": "stream",
     "text": [
      "means:\n",
      "roll=-0.11616080302863417\tpitch=-0.04805721001011869\tyaw=0.2492969185381175\n",
      "std:\n",
      "roll=0.10563390072362171\tpitch=0.1600666871585189\tyaw=0.07555892159063343\n"
     ]
    },
    {
     "name": "stderr",
     "output_type": "stream",
     "text": [
      "C:\\Users\\imjob\\AppData\\Local\\Temp/ipykernel_2332/3660080882.py:27: UserWarning: Matplotlib is currently using module://matplotlib_inline.backend_inline, which is a non-GUI backend, so cannot show the figure.\n",
      "  fig.show()\n"
     ]
    },
    {
     "data": {
      "image/png": "[encoded data removed]",
      "text/plain": [
       "<Figure size 1152x576 with 1 Axes>"
      ]
     },
     "metadata": {
      "needs_background": "light"
     },
     "output_type": "display_data"
    }
   ],
   "source": [
    "x = np.array(info['x'])\n",
    "t = np.array(info['t'])\n",
    "roll, pitch, yaw = quat2rpy_deg(x[:,0], x[:,1], x[:,2], x[:,3])\n",
    "size = roll.shape[0]//3\n",
    "print(f'means:\\nroll={np.mean(roll[-size:])}\\tpitch={np.mean(pitch[-size:])}\\tyaw={np.mean(yaw[-size:])}\\n\\\n",
    "std:\\nroll={np.std(roll[-size:])}\\tpitch={np.std(pitch[-size:])}\\tyaw={np.std(yaw[-size:])}')\n",
    "\n",
    "plot_euler_angles(t, roll, pitch, yaw, filename='angles2.pdf', inset=True)"
   ]
  },
  {
   "cell_type": "code",
   "execution_count": null,
   "metadata": {
    "id": "EsbZBb30IwPX"
   },
   "outputs": [],
   "source": [
    "start = np.array([np.cos(np.pi/2),0,0,np.sin(np.pi/2),0,0,0,0,0,0])"
   ]
  },
  {
   "cell_type": "code",
   "execution_count": null,
   "metadata": {
    "colab": {
     "base_uri": "https://localhost:8080/",
     "height": 585
    },
    "id": "pimvg-KpObHG",
    "outputId": "bf292db3-cf9c-4caa-fc44-09c5c11b6e7d"
   },
   "outputs": [],
   "source": [
    "roll, pitch, yaw = quat2rpy_deg(x[:,0], x[:,1], x[:,2], x[:,3])\n",
    "   \n",
    "fig1 = plt.figure(figsize=(16,8))\n",
    "ax1 = fig1.add_subplot(2,2,1)\n",
    "\n",
    "ax1.set_title(\"Euler Angles\")\n",
    "ax1.plot(t, roll, label = 'roll', color = 'red')\n",
    "ax1.plot(t, pitch, label = 'pitch', color = 'green')\n",
    "ax1.plot(t, yaw, label = 'yaw', color = 'blue')\n",
    "ax1.set_ylabel(r'angles, [deg]')\n",
    "ax1.set_xlabel(r't, [s]')\n",
    "ax1.grid(True)\n",
    "ax1.legend()\n",
    "\n",
    "ax2 = fig1.add_subplot(2,2,2)\n",
    "\n",
    "ax2.set_title(\"Angular Velocity\")\n",
    "ax2.plot(t, x[:,4], label = '$\\omega_x$', color = 'red')\n",
    "ax2.plot(t, x[:,5], label = '$\\omega_y$', color = 'green')\n",
    "ax2.plot(t, x[:,6], label = '$\\omega_z$', color = 'blue')\n",
    "ax2.set_ylabel(r'angular velocity, [rad/s]')\n",
    "ax2.set_xlabel(r't, [s]')\n",
    "ax2.grid(True)\n",
    "ax2.legend()\n",
    "\n",
    "ax2 = fig1.add_subplot(2,2,3)\n",
    "\n",
    "ax2.set_title(\"RW angular momentum\")\n",
    "ax2.plot(t, x[:,7], label = '$h_x$', color = 'red')\n",
    "ax2.plot(t, x[:,8], label = '$h_y$', color = 'green')\n",
    "ax2.plot(t, x[:,9], label = '$h_z$', color = 'blue')\n",
    "ax2.set_ylabel(r'h, [Nms]')\n",
    "ax2.set_xlabel(r't, [s]')\n",
    "ax2.grid(True)\n",
    "ax2.legend()\n",
    "\n",
    "plt.tight_layout()"
   ]
  },
  {
   "cell_type": "markdown",
   "metadata": {
    "id": "8KSETtLE9g9G"
   },
   "source": [
    "## Saving the weights"
   ]
  },
  {
   "cell_type": "code",
   "execution_count": null,
   "metadata": {
    "colab": {
     "base_uri": "https://localhost:8080/",
     "height": 17
    },
    "id": "s8abmL43pFlS",
    "outputId": "e7292d93-511e-408f-bab2-2694560795e2"
   },
   "outputs": [],
   "source": [
    "actor_config = actor.get_config()\n",
    "actor_weights = actor.get_weights()\n",
    "critic_config = critic.get_config()\n",
    "critic_weights = critic.get_weights()\n",
    "import pickle\n",
    "name = f'configs_weights_sin{iterations} {reward_thresh}.pickle'\n",
    "with open(name, 'wb') as f:\n",
    "  pickle.dump((actor_config, actor_weights, critic_config, critic_weights), f)"
   ]
  },
  {
   "cell_type": "markdown",
   "metadata": {
    "id": "6DsvSYd59mek"
   },
   "source": [
    "## Importing the weights"
   ]
  },
  {
   "cell_type": "code",
   "execution_count": 7,
   "metadata": {
    "id": "-p3CM-9IM5MX"
   },
   "outputs": [],
   "source": [
    "import pickle\n",
    "# iterations = 1500\n",
    "# reward_thresh = 0.0043\n",
    "name = f'data/configs_weights.pickle'\n",
    "with open(name, 'rb') as f:\n",
    "  something = pickle.load(f)\n",
    "\n",
    "actor_config, actor_weights ,critic_config, critic_weights = something\n",
    "actor = keras.Model.from_config(actor_config)\n",
    "actor.set_weights(actor_weights)\n",
    "critic = keras.Model.from_config(critic_config)\n",
    "critic.set_weights(critic_weights)"
   ]
  },
  {
   "cell_type": "code",
   "execution_count": null,
   "metadata": {},
   "outputs": [],
   "source": []
  }
 ],
 "metadata": {
  "colab": {
   "collapsed_sections": [
    "RHRt4sMVHqPg",
    "XJZVUK_pHqPj"
   ],
   "name": "ppo_satellite_orientation_gravity_exp",
   "provenance": []
  },
  "kernelspec": {
   "display_name": "Python 3 (ipykernel)",
   "language": "python",
   "name": "python3"
  },
  "language_info": {
   "codemirror_mode": {
    "name": "ipython",
    "version": 3
   },
   "file_extension": ".py",
   "mimetype": "text/x-python",
   "name": "python",
   "nbconvert_exporter": "python",
   "pygments_lexer": "ipython3",
   "version": "3.8.10"
  }
 },
 "nbformat": 4,
 "nbformat_minor": 1
}
